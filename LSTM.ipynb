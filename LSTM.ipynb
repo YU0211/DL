{
  "cells": [
    {
      "cell_type": "markdown",
      "metadata": {
        "id": "view-in-github",
        "colab_type": "text"
      },
      "source": [
        "<a href=\"https://colab.research.google.com/github/YU0211/DL/blob/main/LSTM.ipynb\" target=\"_parent\"><img src=\"https://colab.research.google.com/assets/colab-badge.svg\" alt=\"Open In Colab\"/></a>"
      ]
    },
    {
      "cell_type": "code",
      "execution_count": 17,
      "metadata": {
        "ExecuteTime": {
          "end_time": "2023-11-14T07:45:55.715194Z",
          "start_time": "2023-11-14T07:45:54.302999Z"
        },
        "id": "LogOdc06b_mB"
      },
      "outputs": [],
      "source": [
        "import torch as torch\n",
        "from torch import nn\n",
        "from torch.autograd import Variable as V\n",
        "import torch.nn.functional as F\n",
        "import torch.optim as optim\n",
        "import matplotlib.pyplot as plt\n",
        "from torch.utils.data import Dataset\n",
        "from torch.utils.data import DataLoader\n",
        "from torch import Tensor\n",
        "from torch import nn\n",
        "import os\n",
        "import json\n",
        "import random\n",
        "from nltk.translate.bleu_score import SmoothingFunction, sentence_bleu"
      ]
    },
    {
      "cell_type": "code",
      "source": [],
      "metadata": {
        "id": "zS3FERPKJl_r"
      },
      "execution_count": 17,
      "outputs": []
    },
    {
      "cell_type": "markdown",
      "metadata": {
        "id": "7qcFSlkLb_mD"
      },
      "source": [
        "### Paramereters"
      ]
    },
    {
      "cell_type": "code",
      "execution_count": 18,
      "metadata": {
        "id": "TiO39za0b_mE"
      },
      "outputs": [],
      "source": [
        "#----------Hyper Parameters----------#\n",
        "hidden_size = 512\n",
        "#The number of vocabulary\n",
        "vocab_size = 30\n",
        "teacher_forcing_ratio = 1.0\n",
        "LR = 0.05\n",
        "batch_size = 64\n",
        "output_size = 22\n",
        "embedding_length = 300\n",
        "EOS = 29\n",
        "SOS = 28\n",
        "pad_index=27\n",
        "device = torch.device('cuda' if torch.cuda.is_available() else 'cpu')\n"
      ]
    },
    {
      "cell_type": "markdown",
      "source": [
        "## Functions"
      ],
      "metadata": {
        "id": "t_cCVAwuCe4o"
      }
    },
    {
      "cell_type": "code",
      "execution_count": 19,
      "metadata": {
        "id": "987soruLb_mH"
      },
      "outputs": [],
      "source": [
        "def compute_bleu(output, reference):\n",
        "    cc = SmoothingFunction()\n",
        "    if len(reference) == 3:\n",
        "        weights = (0.33,0.33,0.33)\n",
        "    else:\n",
        "        weights = (0.25,0.25,0.25,0.25)\n",
        "    return sentence_bleu([reference], output,weights=weights,smoothing_function=cc.method1)"
      ]
    },
    {
      "cell_type": "code",
      "source": [
        "class Index2Char():\n",
        "    def __init__(self, char_to_index):\n",
        "        self.index_to_char = {index: char for char, index in char_to_index.items()}\n",
        "\n",
        "    def __call__(self, indices:list, without_token=True):\n",
        "        if type(indices) == Tensor:\n",
        "            indices = indices.tolist()\n",
        "        result =   ''.join(self.index_to_char.get(index, '') for index in indices)\n",
        "        if without_token:\n",
        "            result = result.split('<EOS>')[0]\n",
        "            result = result.replace('<SOS>', '').replace('<EOS>', '').replace('[pad]', '')\n",
        "        return result\n"
      ],
      "metadata": {
        "id": "lAeVCiqyCr2O"
      },
      "execution_count": 20,
      "outputs": []
    },
    {
      "cell_type": "code",
      "source": [
        "def metrics(pred:list, target:list) -> float:\n",
        "    \"\"\"\n",
        "    pred: list of strings\n",
        "    target: list of strings\n",
        "\n",
        "    return: accuracy(%)\n",
        "    \"\"\"\n",
        "    if len(pred) != len(target):\n",
        "        raise ValueError('length of pred and target must be the same')\n",
        "    correct = 0\n",
        "    for i in range(len(pred)):\n",
        "        if pred[i] == target[i]:\n",
        "            correct += 1\n",
        "    return correct / len(pred) * 100"
      ],
      "metadata": {
        "id": "wgjPXxbwX_QE"
      },
      "execution_count": 21,
      "outputs": []
    },
    {
      "cell_type": "code",
      "source": [
        "def printplot(setname,losses, accuarcys, bleus):\n",
        "  newname = 'Test'\n",
        "\n",
        "  plt.figure(figsize=(12, 5))\n",
        "  plt.subplot(1, 3, 1)\n",
        "  plt.plot(losses,color='orange')\n",
        "  plt.xlabel('Epoch')\n",
        "  plt.ylabel(f'Average {setname} Loss')\n",
        "  plt.title(f'{setname} Loss Per Epoch')\n",
        "\n",
        "\n",
        "  plt.subplot(1, 3, 2)\n",
        "  plt.plot(accuarcys,color='orange')\n",
        "  plt.xlabel('Epoch')\n",
        "  plt.ylabel(f'Average {setname} Accuracy %')\n",
        "  plt.title(f'{setname} Accuracy(%) Per Epoch')\n",
        "\n",
        "  plt.subplot(1, 3, 3)\n",
        "  plt.plot(bleus,color='orange')\n",
        "  plt.xlabel('Epoch')\n",
        "  plt.ylabel(f'Average {newname} BLEU Score')\n",
        "  plt.title(f'{newname} BLEU Score Per Epoch')\n",
        "\n",
        "  plt.show()"
      ],
      "metadata": {
        "id": "IHRAASu1lyEv"
      },
      "execution_count": 22,
      "outputs": []
    },
    {
      "cell_type": "code",
      "execution_count": 23,
      "metadata": {
        "id": "_AdOJBMib_mE"
      },
      "outputs": [],
      "source": [
        "\n",
        "\n",
        "\n",
        "class SpellCorrectionDataset(Dataset):\n",
        "    def __init__(self, root, split='train', padding=0):\n",
        "        super(SpellCorrectionDataset, self).__init__()\n",
        "\n",
        "        self.char_to_index = self.build_char_to_index()\n",
        "        self.padding = padding\n",
        "        self.data = self.load_data(root, split)\n",
        "\n",
        "    def build_char_to_index(self):\n",
        "        # 创建字符到索引的映射\n",
        "        characters = 'abcdefghijklmnopqrstuvwxyz'\n",
        "        char_to_index = {char: i + 1 for i, char in enumerate(characters)}\n",
        "        char_to_index['<UNK>'] = len(char_to_index) + 1  # 未知字符\n",
        "        char_to_index['<SOS>'] = len(char_to_index) + 1  # 序列开始\n",
        "        char_to_index['<EOS>'] = len(char_to_index) + 1  # 序列结束\n",
        "        return char_to_index\n",
        "\n",
        "    def load_data(self, root, split):\n",
        "        # 加载 JSON 数据\n",
        "        filename = f'{root}/{split}.json'\n",
        "        with open(filename, 'r') as file:\n",
        "            data = json.load(file)\n",
        "        flattened_data = []\n",
        "        for item in data:\n",
        "            for inp in item[\"input\"]:\n",
        "                flattened_data.append((inp, item[\"target\"]))\n",
        "        return flattened_data\n",
        "\n",
        "    def tokenize(self, text):\n",
        "        # 将文本转换为索引\n",
        "         return [self.char_to_index['<SOS>']] + \\\n",
        "               [self.char_to_index.get(char, self.char_to_index['<UNK>']) for char in text] + \\\n",
        "               [self.char_to_index['<EOS>']]\n",
        "    def pad_sequence(self, sequence):\n",
        "        # 填充序列至固定长度\n",
        "        padded_sequence = sequence[:self.padding]\n",
        "        padded_sequence += [0] * (self.padding - len(padded_sequence))\n",
        "        return padded_sequence\n",
        "\n",
        "    def get_char_to_index(self):\n",
        "        # 返回已创建的 char_to_index 字典\n",
        "        return self.char_to_index\n",
        "    def __len__(self):\n",
        "        return len(self.data)\n",
        "\n",
        "    def __getitem__(self, index):\n",
        "        try:\n",
        "            item = self.data[index]\n",
        "            # 單詞分割\n",
        "            input_ids = self.tokenize(item[0])\n",
        "            target_ids = self.tokenize(item[1])\n",
        "            input_ids = self.pad_sequence(input_ids)\n",
        "            target_ids = self.pad_sequence(target_ids)\n",
        "\n",
        "\n",
        "        except KeyError as e:\n",
        "            print(f\"KeyError accessing data: {e}\")\n",
        "            print(f\"Data at index {index} is: {self.data[index]}\")\n",
        "            raise e\n",
        "        except Exception as e:\n",
        "            print(f\"An error occurred at index {index}: {e}\")\n",
        "            raise e\n",
        "        return torch.tensor(input_ids, dtype=torch.long), torch.tensor(target_ids, dtype=torch.long)"
      ]
    },
    {
      "cell_type": "markdown",
      "metadata": {
        "id": "pn2mJ1fAb_mE"
      },
      "source": [
        "## Dataset"
      ]
    },
    {
      "cell_type": "markdown",
      "metadata": {
        "id": "ZEPCWxkkb_mF"
      },
      "source": [
        "### Split Dataset"
      ]
    },
    {
      "cell_type": "code",
      "execution_count": 24,
      "metadata": {
        "colab": {
          "base_uri": "https://localhost:8080/"
        },
        "id": "u_CS5sivb_mF",
        "outputId": "29601352-d520-4f7d-a884-47579be978bd"
      },
      "outputs": [
        {
          "output_type": "stream",
          "name": "stdout",
          "text": [
            "Train set :  12925\n",
            "Test set :  50\n",
            "Validation set :  50\n"
          ]
        }
      ],
      "source": [
        "# i2c = index2char('./data/')\n",
        "\n",
        "trainset = SpellCorrectionDataset('./data', split='train', padding=22)\n",
        "trainloader = DataLoader(trainset, batch_size, shuffle=True)\n",
        "testset = SpellCorrectionDataset('./data', split='test', padding=22)\n",
        "testloader = DataLoader(testset, batch_size, shuffle=False)\n",
        "valset = SpellCorrectionDataset('./data', split='new_test', padding=22)\n",
        "valloader = DataLoader(valset, batch_size, shuffle=False)\n",
        "device = torch.device('cuda' if torch.cuda.is_available() else 'cpu')\n",
        "char_to_index = trainset.build_char_to_index()\n",
        "\n",
        "ce_loss = nn.CrossEntropyLoss(ignore_index=0)\n",
        "print(\"Train set : \",len(trainset))\n",
        "print(\"Test set : \",len(testset))\n",
        "print(\"Validation set : \",len(valset))"
      ]
    },
    {
      "cell_type": "code",
      "execution_count": 25,
      "metadata": {
        "id": "rYSPfgmnb_mG"
      },
      "outputs": [],
      "source": [
        "# for src, tgt in trainloader:\n",
        "#     print(src.shape)"
      ]
    },
    {
      "cell_type": "markdown",
      "metadata": {
        "id": "FEu481w-b_mG"
      },
      "source": [
        "## Encoder & Decoder"
      ]
    },
    {
      "cell_type": "code",
      "execution_count": 26,
      "metadata": {
        "id": "iOa7a1BWb_mG"
      },
      "outputs": [],
      "source": [
        "class EncoderRNN(nn.Module):\n",
        "    def __init__(self, input_size, hidden_size):\n",
        "        super(EncoderRNN, self).__init__()\n",
        "        self.hidden_size = hidden_size\n",
        "        self.lstm = nn.LSTM(embedding_length,hidden_size)\n",
        "        # self.hidden = self.initHidden()\n",
        "    def forward(self, input):\n",
        "        output, hidden = self.lstm(input)\n",
        "        return output, hidden\n",
        "\n",
        "    def initHidden(self):\n",
        "        empty = torch.zeros(1,batch_size, self.hidden_size, device=device)\n",
        "        return (empty,empty)"
      ]
    },
    {
      "cell_type": "code",
      "execution_count": 27,
      "metadata": {
        "id": "621-dfq5b_mG"
      },
      "outputs": [],
      "source": [
        "class DecoderRNN(nn.Module):\n",
        "    def __init__(self, hidden_size, output_size,num_layers=1):\n",
        "        super(DecoderRNN, self).__init__()\n",
        "        self.hidden_size = hidden_size\n",
        "        self.num_layers = num_layers\n",
        "        self.embedding = nn.Embedding(output_size, hidden_size)\n",
        "        self.lstm = nn.LSTM(input_size = output_size, hidden_size = hidden_size,\n",
        "                            num_layers=num_layers)\n",
        "        self.out = nn.Linear(hidden_size, vocab_size)\n",
        "        # self.softmax = nn.LogSoftmax(dim=1)\n",
        "    def forward(self, input, hidden):\n",
        "        # output = self.embedding(input).view(1, 1, -1)\n",
        "        output = F.relu(input)\n",
        "        output, hidden = self.lstm(output, hidden)\n",
        "        output = self.out(output[0])\n",
        "        return output, hidden\n",
        "\n"
      ]
    },
    {
      "cell_type": "markdown",
      "metadata": {
        "id": "hSMhMpBJb_mH"
      },
      "source": [
        "## Define Model"
      ]
    },
    {
      "cell_type": "code",
      "execution_count": 28,
      "metadata": {
        "id": "0jl3AYBsb_mH"
      },
      "outputs": [],
      "source": [
        "num_inputs = vocab_size\n",
        "# lstm_layer = nn.LSTM(embedding_length,num_inputs, hidden_size)\n",
        "#model = d2l.RNNModel(lstm_layer, vocab_size)\n",
        "class LSTM (nn.Module):\n",
        "    def __init__(self,vocab_size, embedding_length, hidden_size, output_size):\n",
        "        super(LSTM, self).__init__()\n",
        "        self.embedding = nn.Embedding(vocab_size, embedding_length)\n",
        "        self.lstm_encoder = EncoderRNN(num_inputs,hidden_size)\n",
        "        self.lstm_decoder = DecoderRNN(hidden_size,embedding_length)\n",
        "        self.i2c = Index2Char(char_to_index)\n",
        "        self.de_embedding = nn.Embedding(vocab_size, embedding_length)\n",
        "\n",
        "\n",
        "    def forward(self, input_tensor, tgt_tensor=None, teacher_forcing_ratio=0.5):\n",
        "\n",
        "        input = self.embedding(input_tensor).to(device)\n",
        "        tgt = self.embedding(tgt_tensor).to(device)\n",
        "        tgt = tgt.permute(1, 0, 2)\n",
        "        input = input.permute(1, 0, 2)\n",
        "\n",
        "        encoder_output, encoder_hidden = self.lstm_encoder(input)\n",
        "        decoder_input = input[0,:,:].unsqueeze(0)  # 提取每个序列的第一个词并增加维度\n",
        "        decoder_hidden = encoder_hidden\n",
        "\n",
        "        outputs = []\n",
        "        pre_str = []\n",
        "\n",
        "        target_length = tgt.size(0)\n",
        "\n",
        "        for i in range(target_length-1):  # 假设 target_length 已定义\n",
        "            decoder_output, decoder_hidden = self.lstm_decoder(decoder_input, decoder_hidden)\n",
        "\n",
        "            character_probs = F.log_softmax(decoder_output, dim=-1)\n",
        "            pred = character_probs.argmax(dim=-1)\n",
        "            outputs.append(character_probs)\n",
        "            decoder_input = self.de_embedding(pred).unsqueeze(0)\n",
        "            if i == target_length-1:\n",
        "                break\n",
        "            if (random.random() < teacher_forcing_ratio) :\n",
        "                decoder_input = tgt[i+1,:,:].unsqueeze(0)  # Teacher Forcing\n",
        "        batch_bleu_scores = []\n",
        "\n",
        "        outputs = torch.stack(outputs, dim=0)\n",
        "        # print('stack',outputs.shape)\n",
        "        pred_str_list,tgt_str_list=[],[]\n",
        "        # print(outputs.size(1))\n",
        "\n",
        "        total_accuracy = 0\n",
        "        for i in range(outputs.size(1)):\n",
        "            indices = outputs[:,i,:].argmax(dim=-1)\n",
        "\n",
        "            pred_str = self.i2c(indices)\n",
        "            pred_str_list.append(pred_str)\n",
        "            reference_indices = tgt_tensor[i, :]\n",
        "            # print(tgt_tensor.shape)\n",
        "            # print('pred',pred_str_list)\n",
        "            reference_str= self.i2c(reference_indices)\n",
        "            tgt_str_list.append(reference_str)\n",
        "            # print('tgt',tgt_str_list)\n",
        "            bleu_score = compute_bleu(pred_str, reference_str)\n",
        "            batch_bleu_scores.append(bleu_score)\n",
        "            batch_accuracy = metrics(pred_str_list, tgt_str_list)\n",
        "            total_accuracy += batch_accuracy\n",
        "            # print(batch_accuracy)\n",
        "\n",
        "        avg_bleu = sum(batch_bleu_scores)/len(batch_bleu_scores)\n",
        "        avg_train_accuracy = total_accuracy / outputs.size(1)\n",
        "        # avg_batch_acc = batch_accuracy/len\n",
        "        # print(avg_train_accuracy)\n",
        "        # print(avg_bleu)\n",
        "        #\n",
        "        return outputs,avg_train_accuracy,avg_bleu\n",
        "\n"
      ]
    },
    {
      "cell_type": "code",
      "execution_count": 29,
      "metadata": {
        "id": "kOOx6OZ-b_mH"
      },
      "outputs": [],
      "source": [
        "#lstm = nn.LSTM(22,hidden_size,num_layers)"
      ]
    },
    {
      "cell_type": "markdown",
      "metadata": {
        "id": "LgsxZ6o2b_mH"
      },
      "source": [
        "## Train & Test"
      ]
    },
    {
      "cell_type": "code",
      "execution_count": 30,
      "metadata": {
        "id": "H0pALVtFb_mH"
      },
      "outputs": [],
      "source": [
        "loss_fn = nn.CrossEntropyLoss(ignore_index=pad_index)\n",
        "model = LSTM(vocab_size, embedding_length, hidden_size, output_size)\n",
        "model = model.to(device)\n",
        "optimizer = optim.Adam(model.parameters(),lr=1e-4)\n",
        "\n",
        "def train(model, trainloader, num_epochs=10):\n",
        "    loss = 0\n",
        "    avg_losses = []\n",
        "    bleus = []\n",
        "    accs = []\n",
        "\n",
        "    graph_acc=[]\n",
        "    graph_loss=[]\n",
        "    graph_bleu=[]\n",
        "    test_bleus =[]\n",
        "    # model.train()\n",
        "    for epoch in range(num_epochs):\n",
        "        model.train()\n",
        "        total_loss = 0\n",
        "        for src, tgt in trainloader:\n",
        "            src, tgt  = src.long().to(device), tgt.long().to(device)\n",
        "            output,acc, bleu = model(src, tgt)\n",
        "            # print('output',output.shape,'swap',output.permute(1,2,0).shape)\n",
        "            output = output.permute(1,2,0)\n",
        "            # print('tgt',tgt.shape)\n",
        "            # 正向傳播\n",
        "            optimizer.zero_grad()\n",
        "            tgt=tgt[:,1:]\n",
        "            loss = loss_fn(output, tgt)\n",
        "            loss.backward()\n",
        "            optimizer.step()\n",
        "\n",
        "            total_loss += loss.item()\n",
        "            accs.append(acc)\n",
        "            bleus.append(bleu)\n",
        "\n",
        "        average_loss = total_loss / len(trainloader)\n",
        "        avg_losses.append(average_loss)\n",
        "        avg_acc = sum(accs)/len(accs)\n",
        "        avg_bleu = sum(bleus)/len(bleus)\n",
        "\n",
        "        graph_acc.append(avg_acc)\n",
        "        graph_loss.append(average_loss)\n",
        "        graph_bleu.append(avg_bleu)\n",
        "        # print(f'Epoch {epoch+1}/{num_epochs}, Loss: '\n",
        "        test_acc, test_loss, test_bleu = eval_model(model, testloader)\n",
        "        test_bleus.append(test_bleu)\n",
        "        print(f'Epoch {epoch+1}/{num_epochs}, Loss: {average_loss}, Acc:{avg_acc}')\n",
        "\n",
        "\n",
        "    return graph_acc,graph_loss,graph_bleu,test_bleus"
      ]
    },
    {
      "cell_type": "code",
      "execution_count": 31,
      "metadata": {
        "id": "83OO7cYUb_mI"
      },
      "outputs": [],
      "source": [
        "def eval_model(model, dataloader):\n",
        "    total_epoch_loss = 0\n",
        "    total_epoch_acc = 0\n",
        "    model.eval()\n",
        "    loss = 0\n",
        "    avg_losses = []\n",
        "    bleus = []\n",
        "    accs = []\n",
        "\n",
        "    graph_acc=[]\n",
        "    graph_loss=[]\n",
        "    graph_bleu=[]\n",
        "    with torch.no_grad():\n",
        "\n",
        "      total_loss = 0\n",
        "      for src, tgt in dataloader:\n",
        "          src, tgt  = src.long().to(device), tgt.long().to(device)\n",
        "          output,acc, bleu = model(src, tgt)\n",
        "          output = output.permute(1,2,0)\n",
        "          tgt=tgt[:,1:]\n",
        "          loss = loss_fn(output, tgt)\n",
        "\n",
        "          total_loss += loss.item()\n",
        "          accs.append(acc)\n",
        "          bleus.append(bleu)\n",
        "\n",
        "      average_loss = total_loss / len(dataloader)\n",
        "      avg_losses.append(average_loss)\n",
        "      avg_acc = sum(accs)/len(accs)\n",
        "      avg_bleu = sum(bleus)/len(bleus)\n",
        "\n",
        "      # graph_acc.append(avg_acc)\n",
        "      # graph_loss.append(average_loss)\n",
        "      # graph_bleu.append(avg_bleu)\n",
        "\n",
        "\n",
        "      return  avg_acc, average_loss, avg_bleu"
      ]
    },
    {
      "cell_type": "markdown",
      "source": [
        "## Main"
      ],
      "metadata": {
        "id": "DteXvgE1sy2X"
      }
    },
    {
      "cell_type": "code",
      "execution_count": 32,
      "metadata": {
        "colab": {
          "base_uri": "https://localhost:8080/",
          "height": 1000
        },
        "id": "UD8mcOBnb_mH",
        "outputId": "e05c5e2b-0d06-49ee-b99f-b5ce4fa51b76"
      },
      "outputs": [
        {
          "output_type": "stream",
          "name": "stdout",
          "text": [
            "Epoch 1/200, Loss: 1.3862283613422128, Acc:0.0\n",
            "Epoch 2/200, Loss: 1.0681231399573903, Acc:0.0034400958674610273\n",
            "Epoch 3/200, Loss: 1.0250709818141295, Acc:0.002293397244974018\n",
            "Epoch 4/200, Loss: 0.9637882871793049, Acc:0.0025508607925933398\n",
            "Epoch 5/200, Loss: 0.8679871078174893, Acc:0.021999613951760606\n",
            "Epoch 6/200, Loss: 0.7814104604248954, Acc:0.07187084072505782\n",
            "Epoch 7/200, Loss: 0.695077505737248, Acc:0.17059760250898004\n",
            "Epoch 8/200, Loss: 0.6243037420629275, Acc:0.30163427536998644\n",
            "Epoch 9/200, Loss: 0.5758292843209635, Acc:0.513842844254262\n",
            "Epoch 10/200, Loss: 0.5335268518417189, Acc:0.8094423182761432\n",
            "Epoch 11/200, Loss: 0.5049684363426549, Acc:1.139028117525754\n",
            "Epoch 12/200, Loss: 0.4784091421873263, Acc:1.5038608453321791\n",
            "Epoch 13/200, Loss: 0.45868496847624823, Acc:1.875164963243414\n",
            "Epoch 14/200, Loss: 0.4434984667171346, Acc:2.2726207868931736\n",
            "Epoch 15/200, Loss: 0.4272023523503011, Acc:2.670841856512685\n",
            "Epoch 16/200, Loss: 0.40827786509353337, Acc:3.1496780147447554\n",
            "Epoch 17/200, Loss: 0.4029137148420409, Acc:3.628710912467441\n",
            "Epoch 18/200, Loss: 0.38109529785590596, Acc:4.066257135723646\n",
            "Epoch 19/200, Loss: 0.3692862226231263, Acc:4.554771508479589\n",
            "Epoch 20/200, Loss: 0.36157974290965805, Acc:5.067449234338518\n",
            "Epoch 21/200, Loss: 0.34517438097460434, Acc:5.64964041704168\n",
            "Epoch 22/200, Loss: 0.33525519862328423, Acc:6.2096703352525235\n",
            "Epoch 23/200, Loss: 0.32420786455421163, Acc:6.794435007090688\n",
            "Epoch 24/200, Loss: 0.3146990568626045, Acc:7.399134153491296\n",
            "Epoch 25/200, Loss: 0.30226875730965397, Acc:8.02417719345659\n",
            "Epoch 26/200, Loss: 0.29011974977974847, Acc:8.650530846672307\n",
            "Epoch 27/200, Loss: 0.280936227355263, Acc:9.297322558733953\n",
            "Epoch 28/200, Loss: 0.2768580424461034, Acc:9.966192139527324\n",
            "Epoch 29/200, Loss: 0.2650331340656422, Acc:10.654087822550489\n",
            "Epoch 30/200, Loss: 0.26043604417602617, Acc:11.322419330764127\n",
            "Epoch 31/200, Loss: 0.24917613198556524, Acc:11.999858934570012\n",
            "Epoch 32/200, Loss: 0.23396414968341883, Acc:12.725027244963899\n",
            "Epoch 33/200, Loss: 0.22900450856673835, Acc:13.43310034274465\n",
            "Epoch 34/200, Loss: 0.22254427293739695, Acc:14.146547041244212\n",
            "Epoch 35/200, Loss: 0.21155598014593124, Acc:14.913204240035663\n",
            "Epoch 36/200, Loss: 0.20592543434831176, Acc:15.678576874686355\n",
            "Epoch 37/200, Loss: 0.19709894883603152, Acc:16.43609504929323\n",
            "Epoch 38/200, Loss: 0.19220948905342877, Acc:17.200744639895053\n",
            "Epoch 39/200, Loss: 0.18287546239276925, Acc:17.978409439939732\n",
            "Epoch 40/200, Loss: 0.17317145144437798, Acc:18.784249740883357\n",
            "Epoch 41/200, Loss: 0.1669852954547594, Acc:19.565850939534897\n",
            "Epoch 42/200, Loss: 0.15941996477765613, Acc:20.360993243386744\n",
            "Epoch 43/200, Loss: 0.15592785869346987, Acc:21.135560303439238\n",
            "Epoch 44/200, Loss: 0.143647484665755, Acc:21.934875139722422\n",
            "Epoch 45/200, Loss: 0.13946721857727165, Acc:22.722969382427785\n",
            "Epoch 46/200, Loss: 0.13675957302203273, Acc:23.517748967959683\n",
            "Epoch 47/200, Loss: 0.12948186341488716, Acc:24.316080393189342\n",
            "Epoch 48/200, Loss: 0.12308441419707666, Acc:25.117163425239212\n",
            "Epoch 49/200, Loss: 0.12066391213695601, Acc:25.893485735498516\n",
            "Epoch 50/200, Loss: 0.11373019137299888, Acc:26.68771374147769\n",
            "Epoch 51/200, Loss: 0.11098125971632429, Acc:27.471999385801926\n",
            "Epoch 52/200, Loss: 0.10578817752475786, Acc:28.250319914782565\n",
            "Epoch 53/200, Loss: 0.0985089101376805, Acc:29.023484837079828\n",
            "Epoch 54/200, Loss: 0.09635803682526739, Acc:29.806236120266156\n",
            "Epoch 55/200, Loss: 0.0901007451264575, Acc:30.589049838160484\n",
            "Epoch 56/200, Loss: 0.087905742135821, Acc:31.346689121134716\n",
            "Epoch 57/200, Loss: 0.08506973312780408, Acc:32.094008569820886\n",
            "Epoch 58/200, Loss: 0.08098820001255758, Acc:32.84418646285023\n",
            "Epoch 59/200, Loss: 0.07695791916460684, Acc:33.58298797792494\n",
            "Epoch 60/200, Loss: 0.0752917273283595, Acc:34.29792322253256\n",
            "Epoch 61/200, Loss: 0.071059292588051, Acc:35.01748398154007\n",
            "Epoch 62/200, Loss: 0.07047797599346331, Acc:35.71263644816863\n",
            "Epoch 63/200, Loss: 0.06912605825922277, Acc:36.4121738878635\n",
            "Epoch 64/200, Loss: 0.06638174902389546, Acc:37.089358244217635\n",
            "Epoch 65/200, Loss: 0.06389237942155634, Acc:37.754829656555586\n",
            "Epoch 66/200, Loss: 0.05974143228982345, Acc:38.43166400867677\n",
            "Epoch 67/200, Loss: 0.05811620450182126, Acc:39.083770288750095\n",
            "Epoch 68/200, Loss: 0.055031981724913755, Acc:39.737094365555066\n",
            "Epoch 69/200, Loss: 0.056513093753100034, Acc:40.358421240445395\n",
            "Epoch 70/200, Loss: 0.05265242239405023, Acc:40.97956525464401\n",
            "Epoch 71/200, Loss: 0.05197586979495712, Acc:41.58329989938963\n",
            "Epoch 72/200, Loss: 0.04962477821045288, Acc:42.1856011463756\n",
            "Epoch 73/200, Loss: 0.047897670713096564, Acc:42.77307678237702\n",
            "Epoch 74/200, Loss: 0.049232217317244205, Acc:43.34628184308716\n",
            "Epoch 75/200, Loss: 0.0517538979206935, Acc:43.89532886404682\n",
            "Epoch 76/200, Loss: 0.047699829609603575, Acc:44.440806827083385\n",
            "Epoch 77/200, Loss: 0.044071154170992353, Acc:44.988045403939175\n",
            "Epoch 78/200, Loss: 0.045892216468063914, Acc:45.51535283922851\n",
            "Epoch 79/200, Loss: 0.044116651897530744, Acc:46.02727862490666\n",
            "Epoch 80/200, Loss: 0.04142196121450403, Acc:46.54233695385844\n",
            "Epoch 81/200, Loss: 0.03926391551953436, Acc:47.04375946176971\n",
            "Epoch 82/200, Loss: 0.04443532252444489, Acc:47.525807364709294\n",
            "Epoch 83/200, Loss: 0.04196530921698207, Acc:48.000564095753276\n",
            "Epoch 84/200, Loss: 0.03794407095796991, Acc:48.47479143855522\n",
            "Epoch 85/200, Loss: 0.03937768467268584, Acc:48.935800425802725\n",
            "Epoch 86/200, Loss: 0.03816307946523227, Acc:49.38297741904717\n",
            "Epoch 87/200, Loss: 0.03772436276004456, Acc:49.82606712743034\n",
            "Epoch 88/200, Loss: 0.037901783149947625, Acc:50.25882575217653\n",
            "Epoch 89/200, Loss: 0.0363516595611109, Acc:50.6845493645563\n",
            "Epoch 90/200, Loss: 0.03709167801765817, Acc:51.10718398296964\n",
            "Epoch 91/200, Loss: 0.033754437875998494, Acc:51.52058698622421\n",
            "Epoch 92/200, Loss: 0.03830035349427916, Acc:51.91167058034365\n",
            "Epoch 93/200, Loss: 0.03344609628034995, Acc:52.30623481488001\n",
            "Epoch 94/200, Loss: 0.03350574730683376, Acc:52.700743128418395\n",
            "Epoch 95/200, Loss: 0.03168807786861711, Acc:53.08508498688051\n",
            "Epoch 96/200, Loss: 0.03351079908632996, Acc:53.458641600280885\n",
            "Epoch 97/200, Loss: 0.035739092889361744, Acc:53.81635111992322\n",
            "Epoch 98/200, Loss: 0.037352022521271566, Acc:54.162084378066716\n",
            "Epoch 99/200, Loss: 0.033075826579133175, Acc:54.510637136724405\n",
            "Epoch 100/200, Loss: 0.02987431681779499, Acc:54.85838125298799\n",
            "Epoch 101/200, Loss: 0.030803133917990888, Acc:55.20917113762261\n",
            "Epoch 102/200, Loss: 0.029946690485213357, Acc:55.54308783967526\n",
            "Epoch 103/200, Loss: 0.03140245349893328, Acc:55.86938283803565\n",
            "Epoch 104/200, Loss: 0.03245339009191583, Acc:56.1890264334595\n",
            "Epoch 105/200, Loss: 0.029408654354807762, Acc:56.506808396794206\n",
            "Epoch 106/200, Loss: 0.029754650908162688, Acc:56.81990881472753\n",
            "Epoch 107/200, Loss: 0.030612141023030375, Acc:57.129813829031875\n",
            "Epoch 108/200, Loss: 0.02967014098263318, Acc:57.431401190189206\n",
            "Epoch 109/200, Loss: 0.02993040763782245, Acc:57.72507741478881\n",
            "Epoch 110/200, Loss: 0.027863944557928802, Acc:58.015907689436396\n",
            "Epoch 111/200, Loss: 0.027987836657257955, Acc:58.30191020161944\n",
            "Epoch 112/200, Loss: 0.029979915095327218, Acc:58.57522727667004\n",
            "Epoch 113/200, Loss: 0.029335918568886152, Acc:58.84845096100703\n",
            "Epoch 114/200, Loss: 0.028492228068079394, Acc:59.122256669500345\n",
            "Epoch 115/200, Loss: 0.028140139959678793, Acc:59.39340596688872\n",
            "Epoch 116/200, Loss: 0.027208303502474974, Acc:59.661362560156284\n",
            "Epoch 117/200, Loss: 0.026329523037731794, Acc:59.92271251568891\n",
            "Epoch 118/200, Loss: 0.026796514767747703, Acc:60.181812930582595\n",
            "Epoch 119/200, Loss: 0.028040392407317562, Acc:60.428900543026\n",
            "Epoch 120/200, Loss: 0.02729312224442711, Acc:60.676181414920094\n",
            "Epoch 121/200, Loss: 0.027568550111891906, Acc:60.91377363038995\n",
            "Epoch 122/200, Loss: 0.027431967368552294, Acc:61.149796973150636\n",
            "Epoch 123/200, Loss: 0.025488741769649013, Acc:61.38415042641716\n",
            "Epoch 124/200, Loss: 0.026292149664483743, Acc:61.61256129243703\n",
            "Epoch 125/200, Loss: 0.025479868579987842, Acc:61.8359385077399\n",
            "Epoch 126/200, Loss: 0.02622639879787175, Acc:62.055584160767346\n",
            "Epoch 127/200, Loss: 0.02684166415659065, Acc:62.27473452202949\n",
            "Epoch 128/200, Loss: 0.025652812332800118, Acc:62.48688725453785\n",
            "Epoch 129/200, Loss: 0.02561427460577671, Acc:62.69885734961966\n",
            "Epoch 130/200, Loss: 0.024788164522148447, Acc:62.91109159661657\n",
            "Epoch 131/200, Loss: 0.024171885766900412, Acc:63.12183701259276\n",
            "Epoch 132/200, Loss: 0.02388640586747834, Acc:63.32910978095899\n",
            "Epoch 133/200, Loss: 0.02378310752331768, Acc:63.530477203086335\n",
            "Epoch 134/200, Loss: 0.02379959635436535, Acc:63.73001719815459\n",
            "Epoch 135/200, Loss: 0.024636509210461437, Acc:63.926645955589535\n",
            "Epoch 136/200, Loss: 0.022696339811133868, Acc:64.11941759642183\n",
            "Epoch 137/200, Loss: 0.02407218380785077, Acc:64.3120458075241\n",
            "Epoch 138/200, Loss: 0.025976770684252134, Acc:64.49519091231362\n",
            "Epoch 139/200, Loss: 0.0235162899382228, Acc:64.67893028839195\n",
            "Epoch 140/200, Loss: 0.02363309732841162, Acc:64.86387301995615\n",
            "Epoch 141/200, Loss: 0.022438484829583084, Acc:65.04216559756475\n",
            "Epoch 142/200, Loss: 0.023885213165995803, Acc:65.21680784997358\n",
            "Epoch 143/200, Loss: 0.02350241840485078, Acc:65.39239388843743\n",
            "Epoch 144/200, Loss: 0.022527122936939988, Acc:65.56553600099993\n",
            "Epoch 145/200, Loss: 0.024017007613443945, Acc:65.7340152708434\n",
            "Epoch 146/200, Loss: 0.024062289379186707, Acc:65.89885967579829\n",
            "Epoch 147/200, Loss: 0.024346230918135824, Acc:66.06155055436477\n",
            "Epoch 148/200, Loss: 0.023293268470333355, Acc:66.22326549571102\n",
            "Epoch 149/200, Loss: 0.022673064361022104, Acc:66.38442380721234\n",
            "Epoch 150/200, Loss: 0.022321028948420345, Acc:66.54516071174484\n",
            "Epoch 151/200, Loss: 0.023164943388506474, Acc:66.70002694298819\n",
            "Epoch 152/200, Loss: 0.022275760002194507, Acc:66.85381619377053\n",
            "Epoch 153/200, Loss: 0.022120386827737093, Acc:67.0049398048527\n",
            "Epoch 154/200, Loss: 0.02083594891436324, Acc:67.15666724810514\n",
            "Epoch 155/200, Loss: 0.022093406090014936, Acc:67.30525690725568\n",
            "Epoch 156/200, Loss: 0.021582015935276255, Acc:67.45104359201123\n",
            "Epoch 157/200, Loss: 0.022539242949926912, Acc:67.59570027422289\n",
            "Epoch 158/200, Loss: 0.02185244353183794, Acc:67.74039890317466\n",
            "Epoch 159/200, Loss: 0.024241650145095172, Acc:67.8794741139508\n",
            "Epoch 160/200, Loss: 0.021979148073195672, Acc:68.01695864815761\n",
            "Epoch 161/200, Loss: 0.020590576278691243, Acc:68.15550645163795\n",
            "Epoch 162/200, Loss: 0.020767981308687587, Acc:68.29531353589148\n",
            "Epoch 163/200, Loss: 0.020890925974022635, Acc:68.42910309426264\n",
            "Epoch 164/200, Loss: 0.019541769495953133, Acc:68.5600885318566\n",
            "Epoch 165/200, Loss: 0.02146043542468238, Acc:68.68924235784596\n",
            "Epoch 166/200, Loss: 0.021678703737970772, Acc:68.81881072242624\n",
            "Epoch 167/200, Loss: 0.023255104572502988, Acc:68.94213108983607\n",
            "Epoch 168/200, Loss: 0.02176454311725453, Acc:69.06800955828844\n",
            "Epoch 169/200, Loss: 0.020462378084954647, Acc:69.19468811901336\n",
            "Epoch 170/200, Loss: 0.020592304347728442, Acc:69.32077865065494\n",
            "Epoch 171/200, Loss: 0.019316329535484168, Acc:69.4469741189237\n",
            "Epoch 172/200, Loss: 0.021488360350601154, Acc:69.56608654738882\n",
            "Epoch 173/200, Loss: 0.020423065382286464, Acc:69.68527470937539\n",
            "Epoch 174/200, Loss: 0.02179240050845512, Acc:69.80288544010311\n",
            "Epoch 175/200, Loss: 0.020048408289578292, Acc:69.9184297562243\n",
            "Epoch 176/200, Loss: 0.01900584714505637, Acc:70.03618214588609\n",
            "Epoch 177/200, Loss: 0.019737042440562555, Acc:70.15213132110372\n",
            "Epoch 178/200, Loss: 0.020130684087513992, Acc:70.26438517596911\n",
            "Epoch 179/200, Loss: 0.020427967294921526, Acc:70.37422607113383\n",
            "Epoch 180/200, Loss: 0.02013994822979416, Acc:70.48482551627589\n",
            "Epoch 181/200, Loss: 0.02251094418559408, Acc:70.59142774910161\n",
            "Epoch 182/200, Loss: 0.022583112302743416, Acc:70.6951635263068\n",
            "Epoch 183/200, Loss: 0.01968707302400824, Acc:70.80151552348113\n",
            "Epoch 184/200, Loss: 0.02025222218604666, Acc:70.90848758491735\n",
            "Epoch 185/200, Loss: 0.01908807798593056, Acc:71.01292894307508\n",
            "Epoch 186/200, Loss: 0.01943122536995181, Acc:71.117491741969\n",
            "Epoch 187/200, Loss: 0.019691955858362045, Acc:71.21784100180578\n",
            "Epoch 188/200, Loss: 0.018428351898391794, Acc:71.32176701829076\n",
            "Epoch 189/200, Loss: 0.01904813403789286, Acc:71.42514050698236\n",
            "Epoch 190/200, Loss: 0.019275404061052468, Acc:71.52545661388599\n",
            "Epoch 191/200, Loss: 0.018981412122265832, Acc:71.62641690636622\n",
            "Epoch 192/200, Loss: 0.01921846748947507, Acc:71.72140276795429\n",
            "Epoch 193/200, Loss: 0.0185497032045064, Acc:71.81643095375782\n",
            "Epoch 194/200, Loss: 0.017946958390875987, Acc:71.91389339489132\n",
            "Epoch 195/200, Loss: 0.019474315734829127, Acc:72.0077128859909\n",
            "Epoch 196/200, Loss: 0.01813834324469882, Acc:72.10233527129361\n",
            "Epoch 197/200, Loss: 0.020362349137165905, Acc:72.19118284268829\n",
            "Epoch 198/200, Loss: 0.02223091474319301, Acc:72.276926992415\n",
            "Epoch 199/200, Loss: 0.021088230956142935, Acc:72.36318144702662\n",
            "Epoch 200/200, Loss: 0.018440144120411266, Acc:72.45218800568469\n"
          ]
        },
        {
          "output_type": "execute_result",
          "data": {
            "text/plain": [
              "[<matplotlib.lines.Line2D at 0x7810e0755360>]"
            ]
          },
          "metadata": {},
          "execution_count": 32
        },
        {
          "output_type": "display_data",
          "data": {
            "text/plain": [
              "<Figure size 640x480 with 1 Axes>"
            ],
            "image/png": "[encoded data removed]"
          },
          "metadata": {}
        }
      ],
      "source": [
        "num_epochs = 200\n",
        "train_acc, train_loss, train_bleu,train_test_bleu = train(model,trainloader,num_epochs)\n",
        "val_acc, val_loss, val_bleu = eval_model(model, valloader)\n",
        "test_acc, test_loss, test_bleu = eval_model(model, testloader)\n",
        "plt.plot(train_test_bleu,color='orange')"
      ]
    },
    {
      "cell_type": "code",
      "source": [
        "print(f'Train accuarcy:{train_acc[-1]}, Train loss:{train_loss[-1]},Train bleu:{train_bleu[-1]}' )\n",
        "print(f'Test accuracy: {test_acc}, Test loss: {test_loss}, Test bleu: {test_bleu}')\n",
        "print(f'Val accuracy: {val_acc}, Val loss: {val_loss}, Val bleu: {val_bleu}')\n",
        "printplot('Train',train_loss,train_acc,train_test_bleu)\n"
      ],
      "metadata": {
        "colab": {
          "base_uri": "https://localhost:8080/",
          "height": 541
        },
        "id": "x85II950MTzv",
        "outputId": "b7c1f82d-4e08-4474-f0ba-6913df96ab9f"
      },
      "execution_count": 33,
      "outputs": [
        {
          "output_type": "stream",
          "name": "stdout",
          "text": [
            "Train accuarcy:72.45218800568469, Train loss:0.018440144120411266,Train bleu:0.8092900220705643\n",
            "Test accuracy: 88.02885018664418, Test loss: 0.019690843299031258, Test bleu: 0.9498959834769862\n",
            "Val accuracy: 47.89644057058988, Val loss: 0.4125683903694153, Val bleu: 0.6771841408082682\n"
          ]
        },
        {
          "output_type": "display_data",
          "data": {
            "text/plain": [
              "<Figure size 1200x500 with 3 Axes>"
            ],
            "image/png": "[encoded data removed]"
          },
          "metadata": {}
        }
      ]
    },
    {
      "cell_type": "code",
      "source": [
        "# val_acc, val_loss, val_bleu = eval_model(model, valloader)\n",
        "# test_acc, test_loss, test_bleu = eval_model(model, testloader)\n",
        "\n",
        "# # printplot('New_Test',val_loss,val_acc,val_bleu)\n",
        "# # printplot('Test',test_loss,test_acc,test_bleu)\n"
      ],
      "metadata": {
        "id": "EcGU4IC75qzk"
      },
      "execution_count": 34,
      "outputs": []
    },
    {
      "cell_type": "code",
      "source": [],
      "metadata": {
        "id": "ZwHVmVCT5pmr"
      },
      "execution_count": 34,
      "outputs": []
    },
    {
      "cell_type": "code",
      "source": [
        "# printplot('Train',train_loss,train_acc,train_bleu)\n",
        "# printplot('New_Test',val_loss,val_acc,val_bleu)\n",
        "# printplot('Test',test_loss,test_acc,test_bleu)"
      ],
      "metadata": {
        "id": "PV6ScSGAmOf5"
      },
      "execution_count": 35,
      "outputs": []
    },
    {
      "cell_type": "markdown",
      "metadata": {
        "id": "FlpUJy2vb_mH"
      },
      "source": []
    },
    {
      "cell_type": "markdown",
      "metadata": {
        "id": "k121VCU9b_mH"
      },
      "source": []
    }
  ],
  "metadata": {
    "kernelspec": {
      "display_name": "Python 3",
      "name": "python3"
    },
    "language_info": {
      "codemirror_mode": {
        "name": "ipython",
        "version": 3
      },
      "file_extension": ".py",
      "mimetype": "text/x-python",
      "name": "python",
      "nbconvert_exporter": "python",
      "pygments_lexer": "ipython3",
      "version": "3.11.5"
    },
    "colab": {
      "provenance": [],
      "toc_visible": true,
      "machine_shape": "hm",
      "gpuType": "T4",
      "include_colab_link": true
    },
    "accelerator": "GPU"
  },
  "nbformat": 4,
  "nbformat_minor": 0
}