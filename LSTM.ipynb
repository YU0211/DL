{
  "cells": [
    {
      "cell_type": "markdown",
      "metadata": {
        "id": "view-in-github",
        "colab_type": "text"
      },
      "source": [
        "<a href=\"https://colab.research.google.com/github/YU0211/DL/blob/main/LSTM.ipynb\" target=\"_parent\"><img src=\"https://colab.research.google.com/assets/colab-badge.svg\" alt=\"Open In Colab\"/></a>"
      ]
    },
    {
      "cell_type": "code",
      "execution_count": null,
      "metadata": {
        "ExecuteTime": {
          "end_time": "2023-11-14T07:45:55.715194Z",
          "start_time": "2023-11-14T07:45:54.302999Z"
        },
        "id": "LogOdc06b_mB"
      },
      "outputs": [],
      "source": [
        "import torch as torch\n",
        "from torch import nn\n",
        "from torch.autograd import Variable as V\n",
        "import torch.nn.functional as F\n",
        "import torch.optim as optim\n",
        "import matplotlib.pyplot as plt\n",
        "from torch.utils.data import Dataset\n",
        "from torch.utils.data import DataLoader\n",
        "from torch import Tensor\n",
        "from torch import nn\n",
        "import os\n",
        "import json\n",
        "import random\n",
        "from nltk.translate.bleu_score import SmoothingFunction, sentence_bleu"
      ]
    },
    {
      "cell_type": "markdown",
      "metadata": {
        "id": "7qcFSlkLb_mD"
      },
      "source": [
        "### Paramereters"
      ]
    },
    {
      "cell_type": "code",
      "execution_count": null,
      "metadata": {
        "id": "TiO39za0b_mE"
      },
      "outputs": [],
      "source": [
        "#----------Hyper Parameters----------#\n",
        "hidden_size = 512\n",
        "#The number of vocabulary\n",
        "vocab_size = 30\n",
        "teacher_forcing_ratio = 1.0\n",
        "LR = 0.05\n",
        "batch_size = 64\n",
        "output_size = 22\n",
        "embedding_length = 300\n",
        "EOS = 29\n",
        "SOS = 28\n",
        "pad_index=27\n",
        "device = torch.device('cuda' if torch.cuda.is_available() else 'cpu')\n"
      ]
    },
    {
      "cell_type": "markdown",
      "source": [
        "## Functions"
      ],
      "metadata": {
        "id": "t_cCVAwuCe4o"
      }
    },
    {
      "cell_type": "code",
      "execution_count": null,
      "metadata": {
        "id": "987soruLb_mH"
      },
      "outputs": [],
      "source": [
        "def compute_bleu(output, reference):\n",
        "    cc = SmoothingFunction()\n",
        "    if len(reference) == 3:\n",
        "        weights = (0.33,0.33,0.33)\n",
        "    else:\n",
        "        weights = (0.25,0.25,0.25,0.25)\n",
        "    return sentence_bleu([reference], output,weights=weights,smoothing_function=cc.method1)"
      ]
    },
    {
      "cell_type": "code",
      "source": [
        "class Index2Char():\n",
        "    def __init__(self, char_to_index):\n",
        "        self.index_to_char = {index: char for char, index in char_to_index.items()}\n",
        "\n",
        "    def __call__(self, indices:list, without_token=True):\n",
        "        if type(indices) == Tensor:\n",
        "            indices = indices.tolist()\n",
        "        result =   ''.join(self.index_to_char.get(index, '') for index in indices)\n",
        "        if without_token:\n",
        "            result = result.split('<EOS>')[0]\n",
        "            result = result.replace('<SOS>', '').replace('<EOS>', '').replace('[pad]', '')\n",
        "        return result\n"
      ],
      "metadata": {
        "id": "lAeVCiqyCr2O"
      },
      "execution_count": null,
      "outputs": []
    },
    {
      "cell_type": "code",
      "source": [
        "def metrics(pred:list, target:list) -> float:\n",
        "    \"\"\"\n",
        "    pred: list of strings\n",
        "    target: list of strings\n",
        "\n",
        "    return: accuracy(%)\n",
        "    \"\"\"\n",
        "    if len(pred) != len(target):\n",
        "        raise ValueError('length of pred and target must be the same')\n",
        "    correct = 0\n",
        "    for i in range(len(pred)):\n",
        "        if pred[i] == target[i]:\n",
        "            correct += 1\n",
        "    return correct / len(pred) * 100"
      ],
      "metadata": {
        "id": "wgjPXxbwX_QE"
      },
      "execution_count": null,
      "outputs": []
    },
    {
      "cell_type": "code",
      "source": [
        "def printplot(setname,losses, accuarcys, bleus):\n",
        "  plt.figure(figsize=(12, 5))\n",
        "  plt.subplot(1, 3, 1)\n",
        "  plt.plot(losses,color='orange')\n",
        "  plt.xlabel('Epoch')\n",
        "  plt.ylabel(f'Average {setname} Loss')\n",
        "  plt.title(f'{setname} Loss Per Epoch')\n",
        "\n",
        "  plt.subplot(1, 3, 2)\n",
        "  plt.plot(bleus,color='orange')\n",
        "  plt.xlabel('Epoch')\n",
        "  plt.ylabel(f'Average {setname} BLEU Score')\n",
        "  plt.title(f'{setname} BLEU Score Per Epoch')\n",
        "\n",
        "  plt.subplot(1, 3, 3)\n",
        "  plt.plot(accuarcys,color='orange')\n",
        "  plt.xlabel('Epoch')\n",
        "  plt.ylabel(f'Average {setname} Accuracy %')\n",
        "  plt.title(f'{setname} Accuracy(%) Per Epoch')\n",
        "\n",
        "  plt.show()"
      ],
      "metadata": {
        "id": "IHRAASu1lyEv"
      },
      "execution_count": null,
      "outputs": []
    },
    {
      "cell_type": "code",
      "execution_count": null,
      "metadata": {
        "id": "_AdOJBMib_mE"
      },
      "outputs": [],
      "source": [
        "\n",
        "\n",
        "\n",
        "class SpellCorrectionDataset(Dataset):\n",
        "    def __init__(self, root, split='train', padding=0):\n",
        "        super(SpellCorrectionDataset, self).__init__()\n",
        "\n",
        "        self.char_to_index = self.build_char_to_index()\n",
        "        self.padding = padding\n",
        "        self.data = self.load_data(root, split)\n",
        "\n",
        "    def build_char_to_index(self):\n",
        "        # 创建字符到索引的映射\n",
        "        characters = 'abcdefghijklmnopqrstuvwxyz'\n",
        "        char_to_index = {char: i + 1 for i, char in enumerate(characters)}\n",
        "        char_to_index['<UNK>'] = len(char_to_index) + 1  # 未知字符\n",
        "        char_to_index['<SOS>'] = len(char_to_index) + 1  # 序列开始\n",
        "        char_to_index['<EOS>'] = len(char_to_index) + 1  # 序列结束\n",
        "        return char_to_index\n",
        "\n",
        "    def load_data(self, root, split):\n",
        "        # 加载 JSON 数据\n",
        "        filename = f'{root}/{split}.json'\n",
        "        with open(filename, 'r') as file:\n",
        "            data = json.load(file)\n",
        "        flattened_data = []\n",
        "        for item in data:\n",
        "            for inp in item[\"input\"]:\n",
        "                flattened_data.append((inp, item[\"target\"]))\n",
        "        return flattened_data\n",
        "\n",
        "    def tokenize(self, text):\n",
        "        # 将文本转换为索引\n",
        "         return [self.char_to_index['<SOS>']] + \\\n",
        "               [self.char_to_index.get(char, self.char_to_index['<UNK>']) for char in text] + \\\n",
        "               [self.char_to_index['<EOS>']]\n",
        "    def pad_sequence(self, sequence):\n",
        "        # 填充序列至固定长度\n",
        "        padded_sequence = sequence[:self.padding]\n",
        "        padded_sequence += [0] * (self.padding - len(padded_sequence))\n",
        "        return padded_sequence\n",
        "\n",
        "    def get_char_to_index(self):\n",
        "        # 返回已创建的 char_to_index 字典\n",
        "        return self.char_to_index\n",
        "    def __len__(self):\n",
        "        return len(self.data)\n",
        "\n",
        "    def __getitem__(self, index):\n",
        "        try:\n",
        "            item = self.data[index]\n",
        "            # 單詞分割\n",
        "            input_ids = self.tokenize(item[0])\n",
        "            target_ids = self.tokenize(item[1])\n",
        "            input_ids = self.pad_sequence(input_ids)\n",
        "            target_ids = self.pad_sequence(target_ids)\n",
        "\n",
        "\n",
        "        except KeyError as e:\n",
        "            print(f\"KeyError accessing data: {e}\")\n",
        "            print(f\"Data at index {index} is: {self.data[index]}\")\n",
        "            raise e\n",
        "        except Exception as e:\n",
        "            print(f\"An error occurred at index {index}: {e}\")\n",
        "            raise e\n",
        "        return torch.tensor(input_ids, dtype=torch.long), torch.tensor(target_ids, dtype=torch.long)"
      ]
    },
    {
      "cell_type": "markdown",
      "metadata": {
        "id": "pn2mJ1fAb_mE"
      },
      "source": [
        "## Dataset"
      ]
    },
    {
      "cell_type": "markdown",
      "metadata": {
        "id": "ZEPCWxkkb_mF"
      },
      "source": [
        "### Split Dataset"
      ]
    },
    {
      "cell_type": "code",
      "execution_count": null,
      "metadata": {
        "colab": {
          "base_uri": "https://localhost:8080/"
        },
        "id": "u_CS5sivb_mF",
        "outputId": "8553070b-6d3e-47e3-ed8f-6ae7232f8314"
      },
      "outputs": [
        {
          "output_type": "stream",
          "name": "stdout",
          "text": [
            "Train set :  12925\n",
            "Test set :  50\n",
            "Validation set :  50\n"
          ]
        }
      ],
      "source": [
        "# i2c = index2char('./data/')\n",
        "\n",
        "trainset = SpellCorrectionDataset('./data', split='train', padding=22)\n",
        "trainloader = DataLoader(trainset, batch_size, shuffle=True)\n",
        "testset = SpellCorrectionDataset('./data', split='test', padding=22)\n",
        "testloader = DataLoader(testset, batch_size, shuffle=False)\n",
        "valset = SpellCorrectionDataset('./data', split='new_test', padding=22)\n",
        "valloader = DataLoader(valset, batch_size, shuffle=False)\n",
        "device = torch.device('cuda' if torch.cuda.is_available() else 'cpu')\n",
        "char_to_index = trainset.build_char_to_index()\n",
        "\n",
        "ce_loss = nn.CrossEntropyLoss(ignore_index=0)\n",
        "print(\"Train set : \",len(trainset))\n",
        "print(\"Test set : \",len(testset))\n",
        "print(\"Validation set : \",len(valset))"
      ]
    },
    {
      "cell_type": "code",
      "execution_count": null,
      "metadata": {
        "id": "rYSPfgmnb_mG"
      },
      "outputs": [],
      "source": [
        "# for src, tgt in trainloader:\n",
        "#     print(src.shape)"
      ]
    },
    {
      "cell_type": "markdown",
      "metadata": {
        "id": "FEu481w-b_mG"
      },
      "source": [
        "## Encoder & Decoder"
      ]
    },
    {
      "cell_type": "code",
      "execution_count": null,
      "metadata": {
        "id": "iOa7a1BWb_mG"
      },
      "outputs": [],
      "source": [
        "class EncoderRNN(nn.Module):\n",
        "    def __init__(self, input_size, hidden_size):\n",
        "        super(EncoderRNN, self).__init__()\n",
        "        self.hidden_size = hidden_size\n",
        "        self.lstm = nn.LSTM(embedding_length,hidden_size)\n",
        "        # self.hidden = self.initHidden()\n",
        "    def forward(self, input):\n",
        "        output, hidden = self.lstm(input)\n",
        "        return output, hidden\n",
        "\n",
        "    def initHidden(self):\n",
        "        empty = torch.zeros(1,batch_size, self.hidden_size, device=device)\n",
        "        return (empty,empty)"
      ]
    },
    {
      "cell_type": "code",
      "execution_count": null,
      "metadata": {
        "id": "621-dfq5b_mG"
      },
      "outputs": [],
      "source": [
        "class DecoderRNN(nn.Module):\n",
        "    def __init__(self, hidden_size, output_size,num_layers=1):\n",
        "        super(DecoderRNN, self).__init__()\n",
        "        self.hidden_size = hidden_size\n",
        "        self.num_layers = num_layers\n",
        "        self.embedding = nn.Embedding(output_size, hidden_size)\n",
        "        self.lstm = nn.LSTM(input_size = output_size, hidden_size = hidden_size,\n",
        "                            num_layers=num_layers)\n",
        "        self.out = nn.Linear(hidden_size, vocab_size)\n",
        "        # self.softmax = nn.LogSoftmax(dim=1)\n",
        "    def forward(self, input, hidden):\n",
        "        # output = self.embedding(input).view(1, 1, -1)\n",
        "        output = F.relu(input)\n",
        "        output, hidden = self.lstm(output, hidden)\n",
        "        output = self.out(output[0])\n",
        "        return output, hidden\n",
        "\n"
      ]
    },
    {
      "cell_type": "markdown",
      "metadata": {
        "id": "hSMhMpBJb_mH"
      },
      "source": [
        "## Define Model"
      ]
    },
    {
      "cell_type": "code",
      "execution_count": null,
      "metadata": {
        "id": "0jl3AYBsb_mH"
      },
      "outputs": [],
      "source": [
        "num_inputs = vocab_size\n",
        "# lstm_layer = nn.LSTM(embedding_length,num_inputs, hidden_size)\n",
        "#model = d2l.RNNModel(lstm_layer, vocab_size)\n",
        "class LSTM (nn.Module):\n",
        "    def __init__(self,vocab_size, embedding_length, hidden_size, output_size):\n",
        "        super(LSTM, self).__init__()\n",
        "        self.embedding = nn.Embedding(vocab_size, embedding_length)\n",
        "        self.lstm_encoder = EncoderRNN(num_inputs,hidden_size)\n",
        "        self.lstm_decoder = DecoderRNN(hidden_size,embedding_length)\n",
        "        self.i2c = Index2Char(char_to_index)\n",
        "        self.de_embedding = nn.Embedding(vocab_size, embedding_length)\n",
        "\n",
        "\n",
        "    def forward(self, input_tensor, tgt_tensor=None, teacher_forcing_ratio=0.5):\n",
        "\n",
        "        input = self.embedding(input_tensor).to(device)\n",
        "        tgt = self.embedding(tgt_tensor).to(device)\n",
        "        tgt = tgt.permute(1, 0, 2)\n",
        "        input = input.permute(1, 0, 2)\n",
        "\n",
        "        encoder_output, encoder_hidden = self.lstm_encoder(input)\n",
        "        decoder_input = input[0,:,:].unsqueeze(0)  # 提取每个序列的第一个词并增加维度\n",
        "        decoder_hidden = encoder_hidden\n",
        "\n",
        "        outputs = []\n",
        "        pre_str = []\n",
        "\n",
        "        target_length = tgt.size(0)\n",
        "\n",
        "        for i in range(target_length-1):  # 假设 target_length 已定义\n",
        "            decoder_output, decoder_hidden = self.lstm_decoder(decoder_input, decoder_hidden)\n",
        "\n",
        "            character_probs = F.log_softmax(decoder_output, dim=-1)\n",
        "            pred = character_probs.argmax(dim=-1)\n",
        "            outputs.append(character_probs)\n",
        "            decoder_input = self.de_embedding(pred).unsqueeze(0)\n",
        "            if i == target_length-1:\n",
        "                break\n",
        "            if (random.random() < teacher_forcing_ratio) :\n",
        "                decoder_input = tgt[i+1,:,:].unsqueeze(0)  # Teacher Forcing\n",
        "        batch_bleu_scores = []\n",
        "\n",
        "        outputs = torch.stack(outputs, dim=0)\n",
        "        # print('stack',outputs.shape)\n",
        "        pred_str_list,tgt_str_list=[],[]\n",
        "        # print(outputs.size(1))\n",
        "\n",
        "        total_accuracy = 0\n",
        "        for i in range(outputs.size(1)):\n",
        "            indices = outputs[:,i,:].argmax(dim=-1)\n",
        "\n",
        "            pred_str = self.i2c(indices)\n",
        "            pred_str_list.append(pred_str)\n",
        "            reference_indices = tgt_tensor[i, :]\n",
        "            # print(tgt_tensor.shape)\n",
        "            # print('pred',pred_str_list)\n",
        "            reference_str= self.i2c(reference_indices)\n",
        "            tgt_str_list.append(reference_str)\n",
        "            # print('tgt',tgt_str_list)\n",
        "            bleu_score = compute_bleu(pred_str, reference_str)\n",
        "            batch_bleu_scores.append(bleu_score)\n",
        "            batch_accuracy = metrics(pred_str_list, tgt_str_list)\n",
        "            total_accuracy += batch_accuracy\n",
        "            # print(batch_accuracy)\n",
        "\n",
        "        avg_bleu = sum(batch_bleu_scores)/len(batch_bleu_scores)\n",
        "        avg_train_accuracy = total_accuracy / outputs.size(1)\n",
        "        # avg_batch_acc = batch_accuracy/len\n",
        "        # print(avg_train_accuracy)\n",
        "        # print(avg_bleu)\n",
        "        #\n",
        "        return outputs,avg_train_accuracy,avg_bleu\n",
        "\n"
      ]
    },
    {
      "cell_type": "code",
      "execution_count": null,
      "metadata": {
        "id": "scgVzXKIb_mH"
      },
      "outputs": [],
      "source": []
    },
    {
      "cell_type": "code",
      "execution_count": null,
      "metadata": {
        "id": "kOOx6OZ-b_mH"
      },
      "outputs": [],
      "source": [
        "#lstm = nn.LSTM(22,hidden_size,num_layers)"
      ]
    },
    {
      "cell_type": "markdown",
      "metadata": {
        "id": "LgsxZ6o2b_mH"
      },
      "source": [
        "## Train & Test"
      ]
    },
    {
      "cell_type": "code",
      "execution_count": null,
      "metadata": {
        "id": "H0pALVtFb_mH"
      },
      "outputs": [],
      "source": [
        "loss_fn = nn.CrossEntropyLoss(ignore_index=pad_index)\n",
        "model = LSTM(vocab_size, embedding_length, hidden_size, output_size)\n",
        "model = model.to(device)\n",
        "optimizer = optim.SGD(model.parameters(),lr=1e-1)\n",
        "\n",
        "def train(model, trainloader, num_epochs=10):\n",
        "    loss = 0\n",
        "    avg_losses = []\n",
        "    bleus = []\n",
        "    accs = []\n",
        "\n",
        "    graph_acc=[]\n",
        "    graph_loss=[]\n",
        "    graph_bleu=[]\n",
        "    # model.train()\n",
        "    for epoch in range(num_epochs):\n",
        "        model.train()\n",
        "        total_loss = 0\n",
        "        for src, tgt in trainloader:\n",
        "            src, tgt  = src.long().to(device), tgt.long().to(device)\n",
        "            output,acc, bleu = model(src, tgt)\n",
        "            # print('output',output.shape,'swap',output.permute(1,2,0).shape)\n",
        "            output = output.permute(1,2,0)\n",
        "            # print('tgt',tgt.shape)\n",
        "            # 正向傳播\n",
        "            optimizer.zero_grad()\n",
        "            tgt=tgt[:,1:]\n",
        "            loss = loss_fn(output, tgt)\n",
        "            loss.backward()\n",
        "            optimizer.step()\n",
        "\n",
        "            total_loss += loss.item()\n",
        "            accs.append(acc)\n",
        "            bleus.append(bleu)\n",
        "\n",
        "        average_loss = total_loss / len(trainloader)\n",
        "        avg_losses.append(average_loss)\n",
        "        avg_acc = sum(accs)/len(accs)\n",
        "        avg_bleu = sum(bleus)/len(bleus)\n",
        "\n",
        "        graph_acc.append(avg_acc)\n",
        "        graph_loss.append(average_loss)\n",
        "        graph_bleu.append(avg_bleu)\n",
        "        # print(f'Epoch {epoch+1}/{num_epochs}, Loss: '\n",
        "        print(f'Epoch {epoch+1}/{num_epochs}, Loss: {total_loss/len(trainloader)}')\n",
        "\n",
        "\n",
        "\n",
        "\n",
        "    return graph_acc,graph_loss,graph_bleu"
      ]
    },
    {
      "cell_type": "code",
      "execution_count": null,
      "metadata": {
        "id": "83OO7cYUb_mI"
      },
      "outputs": [],
      "source": [
        "def eval_model(model, dataloader):\n",
        "    total_epoch_loss = 0\n",
        "    total_epoch_acc = 0\n",
        "    model.eval()\n",
        "    loss = 0\n",
        "    avg_losses = []\n",
        "    bleus = []\n",
        "    accs = []\n",
        "\n",
        "    graph_acc=[]\n",
        "    graph_loss=[]\n",
        "    graph_bleu=[]\n",
        "    with torch.no_grad():\n",
        "\n",
        "      total_loss = 0\n",
        "      for src, tgt in trainloader:\n",
        "          src, tgt  = src.long().to(device), tgt.long().to(device)\n",
        "          output,acc, bleu = model(src, tgt)\n",
        "          output = output.permute(1,2,0)\n",
        "          tgt=tgt[:,1:]\n",
        "          loss = loss_fn(output, tgt)\n",
        "\n",
        "          total_loss += loss.item()\n",
        "          accs.append(acc)\n",
        "          bleus.append(bleu)\n",
        "\n",
        "      average_loss = total_loss / len(trainloader)\n",
        "      avg_losses.append(average_loss)\n",
        "      avg_acc = sum(accs)/len(accs)\n",
        "      avg_bleu = sum(bleus)/len(bleus)\n",
        "\n",
        "      # graph_acc.append(avg_acc)\n",
        "      # graph_loss.append(average_loss)\n",
        "      # graph_bleu.append(avg_bleu)\n",
        "\n",
        "\n",
        "      return  avg_acc, average_loss, avg_bleu"
      ]
    },
    {
      "cell_type": "markdown",
      "source": [
        "## Main"
      ],
      "metadata": {
        "id": "DteXvgE1sy2X"
      }
    },
    {
      "cell_type": "code",
      "execution_count": null,
      "metadata": {
        "colab": {
          "base_uri": "https://localhost:8080/",
          "height": 1000
        },
        "id": "UD8mcOBnb_mH",
        "outputId": "c25c90cd-3436-4e4e-9684-9652fd2e49b1"
      },
      "outputs": [
        {
          "output_type": "stream",
          "name": "stdout",
          "text": [
            "Epoch 1/200, Loss: 1.3188847940747102\n",
            "Epoch 2/200, Loss: 1.1818673250698808\n",
            "Epoch 3/200, Loss: 1.1539117670295262\n",
            "Epoch 4/200, Loss: 1.139062463056923\n",
            "Epoch 5/200, Loss: 1.1285890562109429\n",
            "Epoch 6/200, Loss: 1.1174088359469234\n",
            "Epoch 7/200, Loss: 1.1042945780376396\n",
            "Epoch 8/200, Loss: 1.1020809875266386\n",
            "Epoch 9/200, Loss: 1.0883029548838588\n",
            "Epoch 10/200, Loss: 1.0950582062844003\n",
            "Epoch 11/200, Loss: 1.0831471300951325\n",
            "Epoch 12/200, Loss: 1.071350012380298\n",
            "Epoch 13/200, Loss: 1.0585137759104815\n",
            "Epoch 14/200, Loss: 1.0400970020506641\n",
            "Epoch 15/200, Loss: 1.024640563986089\n",
            "Epoch 16/200, Loss: 1.0112814304262105\n",
            "Epoch 17/200, Loss: 1.0030789986105249\n",
            "Epoch 18/200, Loss: 0.9891748387034577\n",
            "Epoch 19/200, Loss: 0.9936114711926716\n",
            "Epoch 20/200, Loss: 0.9844312706206104\n",
            "Epoch 21/200, Loss: 0.9784224664810861\n",
            "Epoch 22/200, Loss: 0.9699131501193093\n",
            "Epoch 23/200, Loss: 0.9541818056956376\n",
            "Epoch 24/200, Loss: 0.9472768660819176\n",
            "Epoch 25/200, Loss: 0.9493330542994017\n",
            "Epoch 26/200, Loss: 0.9332189436006074\n",
            "Epoch 27/200, Loss: 0.9251799468356784\n",
            "Epoch 28/200, Loss: 0.9118410292828437\n",
            "Epoch 29/200, Loss: 0.905873559194036\n",
            "Epoch 30/200, Loss: 0.8986999619715285\n",
            "Epoch 31/200, Loss: 0.8976714209754868\n",
            "Epoch 32/200, Loss: 0.8880631967936412\n",
            "Epoch 33/200, Loss: 0.8814765276885269\n",
            "Epoch 34/200, Loss: 0.8709858396265766\n",
            "Epoch 35/200, Loss: 0.8614241808357805\n",
            "Epoch 36/200, Loss: 0.8580363859044443\n",
            "Epoch 37/200, Loss: 0.8513161242008209\n",
            "Epoch 38/200, Loss: 0.8456919243430147\n",
            "Epoch 39/200, Loss: 0.8385196363571847\n",
            "Epoch 40/200, Loss: 0.8330077045034654\n",
            "Epoch 41/200, Loss: 0.8212758382358173\n",
            "Epoch 42/200, Loss: 0.810798959566815\n",
            "Epoch 43/200, Loss: 0.7901696359167004\n",
            "Epoch 44/200, Loss: 0.776395433905101\n",
            "Epoch 45/200, Loss: 0.7770413458347321\n",
            "Epoch 46/200, Loss: 0.7530802532587901\n",
            "Epoch 47/200, Loss: 0.744773124999339\n",
            "Epoch 48/200, Loss: 0.7419996465196704\n",
            "Epoch 49/200, Loss: 0.7237997004891387\n",
            "Epoch 50/200, Loss: 0.7225238462485889\n",
            "Epoch 51/200, Loss: 0.7067119089683683\n",
            "Epoch 52/200, Loss: 0.6929535744803967\n",
            "Epoch 53/200, Loss: 0.693001634413653\n",
            "Epoch 54/200, Loss: 0.6773847683821574\n",
            "Epoch 55/200, Loss: 0.6587770038312024\n",
            "Epoch 56/200, Loss: 0.6595967757229758\n",
            "Epoch 57/200, Loss: 0.6520873262445526\n",
            "Epoch 58/200, Loss: 0.640256814142265\n",
            "Epoch 59/200, Loss: 0.6343734634689765\n",
            "Epoch 60/200, Loss: 0.6136413251999582\n",
            "Epoch 61/200, Loss: 0.6109138871773635\n",
            "Epoch 62/200, Loss: 0.5969416950598802\n",
            "Epoch 63/200, Loss: 0.5871116935026528\n",
            "Epoch 64/200, Loss: 0.5906396351828433\n",
            "Epoch 65/200, Loss: 0.5610035854105903\n",
            "Epoch 66/200, Loss: 0.5549840851880536\n",
            "Epoch 67/200, Loss: 0.5510407630169746\n",
            "Epoch 68/200, Loss: 0.5502898963076053\n",
            "Epoch 69/200, Loss: 0.5333719290424102\n",
            "Epoch 70/200, Loss: 0.5249866616017748\n",
            "Epoch 71/200, Loss: 0.5206205009823979\n",
            "Epoch 72/200, Loss: 0.5117016694333294\n",
            "Epoch 73/200, Loss: 0.507218792739481\n",
            "Epoch 74/200, Loss: 0.4956758248038811\n",
            "Epoch 75/200, Loss: 0.4922416670487659\n",
            "Epoch 76/200, Loss: 0.49362265680095935\n",
            "Epoch 77/200, Loss: 0.48380623344737705\n",
            "Epoch 78/200, Loss: 0.47658837033380375\n",
            "Epoch 79/200, Loss: 0.46936389302263165\n",
            "Epoch 80/200, Loss: 0.46436839897443755\n",
            "Epoch 81/200, Loss: 0.4600203004803988\n",
            "Epoch 82/200, Loss: 0.4540777817220971\n",
            "Epoch 83/200, Loss: 0.4511481553021044\n",
            "Epoch 84/200, Loss: 0.4435872826540824\n",
            "Epoch 85/200, Loss: 0.4464587815622292\n",
            "Epoch 86/200, Loss: 0.4332679043902029\n",
            "Epoch 87/200, Loss: 0.43384525770007976\n",
            "Epoch 88/200, Loss: 0.4285855997021836\n",
            "Epoch 89/200, Loss: 0.4246334750758539\n",
            "Epoch 90/200, Loss: 0.41558994603629157\n",
            "Epoch 91/200, Loss: 0.41868124444886007\n",
            "Epoch 92/200, Loss: 0.4136882203050179\n",
            "Epoch 93/200, Loss: 0.412759728213348\n",
            "Epoch 94/200, Loss: 0.4037110258151989\n",
            "Epoch 95/200, Loss: 0.39937279764378425\n",
            "Epoch 96/200, Loss: 0.3969390829010765\n",
            "Epoch 97/200, Loss: 0.395035978591088\n",
            "Epoch 98/200, Loss: 0.38916845531156746\n",
            "Epoch 99/200, Loss: 0.38428750944019546\n",
            "Epoch 100/200, Loss: 0.3875092461262599\n",
            "Epoch 101/200, Loss: 0.3798318859374169\n",
            "Epoch 102/200, Loss: 0.37576878336396546\n",
            "Epoch 103/200, Loss: 0.37163330644074055\n",
            "Epoch 104/200, Loss: 0.37046407539360593\n",
            "Epoch 105/200, Loss: 0.3600188608069231\n",
            "Epoch 106/200, Loss: 0.3649693589546893\n",
            "Epoch 107/200, Loss: 0.3535519460640331\n",
            "Epoch 108/200, Loss: 0.3582282094377102\n",
            "Epoch 109/200, Loss: 0.3493009519458997\n",
            "Epoch 110/200, Loss: 0.3455011725130648\n",
            "Epoch 111/200, Loss: 0.34793558879063863\n",
            "Epoch 112/200, Loss: 0.3460078854667078\n",
            "Epoch 113/200, Loss: 0.3365073102240515\n",
            "Epoch 114/200, Loss: 0.3384528659505419\n",
            "Epoch 115/200, Loss: 0.3379858809680042\n",
            "Epoch 116/200, Loss: 0.3270973276973951\n",
            "Epoch 117/200, Loss: 0.32544425469223814\n",
            "Epoch 118/200, Loss: 0.3227597860121491\n",
            "Epoch 119/200, Loss: 0.32323178191586294\n",
            "Epoch 120/200, Loss: 0.31376050021683816\n",
            "Epoch 121/200, Loss: 0.31431915544637357\n",
            "Epoch 122/200, Loss: 0.3110453214975867\n",
            "Epoch 123/200, Loss: 0.3080702112747891\n",
            "Epoch 124/200, Loss: 0.29942213832446846\n",
            "Epoch 125/200, Loss: 0.30591909956223895\n",
            "Epoch 126/200, Loss: 0.29886605590581894\n",
            "Epoch 127/200, Loss: 0.29378770992602454\n",
            "Epoch 128/200, Loss: 0.292055476124924\n",
            "Epoch 129/200, Loss: 0.2964245790597236\n",
            "Epoch 130/200, Loss: 0.2904184318267473\n",
            "Epoch 131/200, Loss: 0.2833017272376778\n",
            "Epoch 132/200, Loss: 0.2780592704911043\n",
            "Epoch 133/200, Loss: 0.27243443910438236\n",
            "Epoch 134/200, Loss: 0.27939638421677127\n",
            "Epoch 135/200, Loss: 0.2730816390992391\n",
            "Epoch 136/200, Loss: 0.2634288952639787\n",
            "Epoch 137/200, Loss: 0.2630580946212948\n",
            "Epoch 138/200, Loss: 0.25641003162553994\n",
            "Epoch 139/200, Loss: 0.2583809688244716\n",
            "Epoch 140/200, Loss: 0.2570681914982229\n",
            "Epoch 141/200, Loss: 0.24979107716295978\n",
            "Epoch 142/200, Loss: 0.2492537423968315\n",
            "Epoch 143/200, Loss: 0.2476300098518334\n",
            "Epoch 144/200, Loss: 0.24441767100355413\n",
            "Epoch 145/200, Loss: 0.2366193217953833\n",
            "Epoch 146/200, Loss: 0.23800144809307439\n",
            "Epoch 147/200, Loss: 0.23308644760953318\n",
            "Epoch 148/200, Loss: 0.23226400885251489\n",
            "Epoch 149/200, Loss: 0.22623741752145313\n",
            "Epoch 150/200, Loss: 0.22421020962814292\n",
            "Epoch 151/200, Loss: 0.2193710159989867\n",
            "Epoch 152/200, Loss: 0.2134180336010338\n",
            "Epoch 153/200, Loss: 0.2165556879031776\n",
            "Epoch 154/200, Loss: 0.21392337277089016\n",
            "Epoch 155/200, Loss: 0.2084273025393486\n",
            "Epoch 156/200, Loss: 0.2068837258485284\n",
            "Epoch 157/200, Loss: 0.2046242194748161\n",
            "Epoch 158/200, Loss: 0.19902440640005734\n",
            "Epoch 159/200, Loss: 0.19895198919100338\n",
            "Epoch 160/200, Loss: 0.1934498806696127\n",
            "Epoch 161/200, Loss: 0.192383755293518\n",
            "Epoch 162/200, Loss: 0.19252965971827507\n",
            "Epoch 163/200, Loss: 0.18662192731505572\n",
            "Epoch 164/200, Loss: 0.1831781147508928\n",
            "Epoch 165/200, Loss: 0.17926904603396313\n",
            "Epoch 166/200, Loss: 0.18273970960537986\n",
            "Epoch 167/200, Loss: 0.17200526561920004\n",
            "Epoch 168/200, Loss: 0.17120192166749792\n",
            "Epoch 169/200, Loss: 0.17063372124834816\n",
            "Epoch 170/200, Loss: 0.16761495479115165\n",
            "Epoch 171/200, Loss: 0.16529995782097967\n",
            "Epoch 172/200, Loss: 0.16242160895230748\n",
            "Epoch 173/200, Loss: 0.15755161451231134\n",
            "Epoch 174/200, Loss: 0.15838305939837258\n",
            "Epoch 175/200, Loss: 0.1537367508995651\n",
            "Epoch 176/200, Loss: 0.15320003076945202\n",
            "Epoch 177/200, Loss: 0.1489802493095988\n",
            "Epoch 178/200, Loss: 0.1447950209500176\n",
            "Epoch 179/200, Loss: 0.14764264089488746\n",
            "Epoch 180/200, Loss: 0.14259315437019462\n",
            "Epoch 181/200, Loss: 0.1355906893121134\n",
            "Epoch 182/200, Loss: 0.13796353642598236\n",
            "Epoch 183/200, Loss: 0.13588175052168347\n",
            "Epoch 184/200, Loss: 0.13297677711390032\n",
            "Epoch 185/200, Loss: 0.12906976261793976\n",
            "Epoch 186/200, Loss: 0.12899286967545454\n",
            "Epoch 187/200, Loss: 0.12415444352986789\n",
            "Epoch 188/200, Loss: 0.12472642633584466\n",
            "Epoch 189/200, Loss: 0.12055333788589676\n",
            "Epoch 190/200, Loss: 0.11569729871531524\n",
            "Epoch 191/200, Loss: 0.11415119306875927\n",
            "Epoch 192/200, Loss: 0.11289270428737791\n",
            "Epoch 193/200, Loss: 0.11289247368822003\n",
            "Epoch 194/200, Loss: 0.11059516943105967\n",
            "Epoch 195/200, Loss: 0.10710769004677193\n",
            "Epoch 196/200, Loss: 0.10501675778022497\n",
            "Epoch 197/200, Loss: 0.10140726429474826\n",
            "Epoch 198/200, Loss: 0.09951062293926088\n",
            "Epoch 199/200, Loss: 0.1032090718203252\n",
            "Epoch 200/200, Loss: 0.09748707527276312\n"
          ]
        },
        {
          "output_type": "error",
          "ename": "KeyboardInterrupt",
          "evalue": "ignored",
          "traceback": [
            "\u001b[0;31m---------------------------------------------------------------------------\u001b[0m",
            "\u001b[0;31mKeyboardInterrupt\u001b[0m                         Traceback (most recent call last)",
            "\u001b[0;32m<ipython-input-32-aed8b07d1f2d>\u001b[0m in \u001b[0;36m<cell line: 4>\u001b[0;34m()\u001b[0m\n\u001b[1;32m      2\u001b[0m \u001b[0mtrain_acc\u001b[0m\u001b[0;34m,\u001b[0m \u001b[0mtrain_loss\u001b[0m\u001b[0;34m,\u001b[0m \u001b[0mtrain_bleu\u001b[0m \u001b[0;34m=\u001b[0m \u001b[0mtrain\u001b[0m\u001b[0;34m(\u001b[0m\u001b[0mmodel\u001b[0m\u001b[0;34m,\u001b[0m\u001b[0mtrainloader\u001b[0m\u001b[0;34m,\u001b[0m\u001b[0mnum_epochs\u001b[0m\u001b[0;34m)\u001b[0m\u001b[0;34m\u001b[0m\u001b[0;34m\u001b[0m\u001b[0m\n\u001b[1;32m      3\u001b[0m \u001b[0mval_acc\u001b[0m\u001b[0;34m,\u001b[0m \u001b[0mval_loss\u001b[0m\u001b[0;34m,\u001b[0m \u001b[0mval_bleu\u001b[0m \u001b[0;34m=\u001b[0m \u001b[0meval_model\u001b[0m\u001b[0;34m(\u001b[0m\u001b[0mmodel\u001b[0m\u001b[0;34m,\u001b[0m \u001b[0mvalloader\u001b[0m\u001b[0;34m,\u001b[0m\u001b[0mnum_epochs\u001b[0m\u001b[0;34m)\u001b[0m\u001b[0;34m\u001b[0m\u001b[0;34m\u001b[0m\u001b[0m\n\u001b[0;32m----> 4\u001b[0;31m \u001b[0mtest_acc\u001b[0m\u001b[0;34m,\u001b[0m \u001b[0mtest_loss\u001b[0m\u001b[0;34m,\u001b[0m \u001b[0mtest_bleu\u001b[0m \u001b[0;34m=\u001b[0m \u001b[0meval_model\u001b[0m\u001b[0;34m(\u001b[0m\u001b[0mmodel\u001b[0m\u001b[0;34m,\u001b[0m \u001b[0mtestloader\u001b[0m\u001b[0;34m,\u001b[0m\u001b[0mnum_epochs\u001b[0m\u001b[0;34m)\u001b[0m\u001b[0;34m\u001b[0m\u001b[0;34m\u001b[0m\u001b[0m\n\u001b[0m\u001b[1;32m      5\u001b[0m \u001b[0;34m\u001b[0m\u001b[0m\n\u001b[1;32m      6\u001b[0m \u001b[0mprintplot\u001b[0m\u001b[0;34m(\u001b[0m\u001b[0;34m'Train'\u001b[0m\u001b[0;34m,\u001b[0m\u001b[0mtrain_loss\u001b[0m\u001b[0;34m,\u001b[0m\u001b[0mtrain_acc\u001b[0m\u001b[0;34m,\u001b[0m\u001b[0mtrain_bleu\u001b[0m\u001b[0;34m)\u001b[0m\u001b[0;34m\u001b[0m\u001b[0;34m\u001b[0m\u001b[0m\n",
            "\u001b[0;32m<ipython-input-31-9163c2f3c675>\u001b[0m in \u001b[0;36meval_model\u001b[0;34m(model, dataloader, num_epochs)\u001b[0m\n\u001b[1;32m     16\u001b[0m           \u001b[0;32mfor\u001b[0m \u001b[0msrc\u001b[0m\u001b[0;34m,\u001b[0m \u001b[0mtgt\u001b[0m \u001b[0;32min\u001b[0m \u001b[0mtrainloader\u001b[0m\u001b[0;34m:\u001b[0m\u001b[0;34m\u001b[0m\u001b[0;34m\u001b[0m\u001b[0m\n\u001b[1;32m     17\u001b[0m               \u001b[0msrc\u001b[0m\u001b[0;34m,\u001b[0m \u001b[0mtgt\u001b[0m  \u001b[0;34m=\u001b[0m \u001b[0msrc\u001b[0m\u001b[0;34m.\u001b[0m\u001b[0mlong\u001b[0m\u001b[0;34m(\u001b[0m\u001b[0;34m)\u001b[0m\u001b[0;34m.\u001b[0m\u001b[0mto\u001b[0m\u001b[0;34m(\u001b[0m\u001b[0mdevice\u001b[0m\u001b[0;34m)\u001b[0m\u001b[0;34m,\u001b[0m \u001b[0mtgt\u001b[0m\u001b[0;34m.\u001b[0m\u001b[0mlong\u001b[0m\u001b[0;34m(\u001b[0m\u001b[0;34m)\u001b[0m\u001b[0;34m.\u001b[0m\u001b[0mto\u001b[0m\u001b[0;34m(\u001b[0m\u001b[0mdevice\u001b[0m\u001b[0;34m)\u001b[0m\u001b[0;34m\u001b[0m\u001b[0;34m\u001b[0m\u001b[0m\n\u001b[0;32m---> 18\u001b[0;31m               \u001b[0moutput\u001b[0m\u001b[0;34m,\u001b[0m\u001b[0macc\u001b[0m\u001b[0;34m,\u001b[0m \u001b[0mbleu\u001b[0m \u001b[0;34m=\u001b[0m \u001b[0mmodel\u001b[0m\u001b[0;34m(\u001b[0m\u001b[0msrc\u001b[0m\u001b[0;34m,\u001b[0m \u001b[0mtgt\u001b[0m\u001b[0;34m)\u001b[0m\u001b[0;34m\u001b[0m\u001b[0;34m\u001b[0m\u001b[0m\n\u001b[0m\u001b[1;32m     19\u001b[0m               \u001b[0moutput\u001b[0m \u001b[0;34m=\u001b[0m \u001b[0moutput\u001b[0m\u001b[0;34m.\u001b[0m\u001b[0mpermute\u001b[0m\u001b[0;34m(\u001b[0m\u001b[0;36m1\u001b[0m\u001b[0;34m,\u001b[0m\u001b[0;36m2\u001b[0m\u001b[0;34m,\u001b[0m\u001b[0;36m0\u001b[0m\u001b[0;34m)\u001b[0m\u001b[0;34m\u001b[0m\u001b[0;34m\u001b[0m\u001b[0m\n\u001b[1;32m     20\u001b[0m               \u001b[0mtgt\u001b[0m\u001b[0;34m=\u001b[0m\u001b[0mtgt\u001b[0m\u001b[0;34m[\u001b[0m\u001b[0;34m:\u001b[0m\u001b[0;34m,\u001b[0m\u001b[0;36m1\u001b[0m\u001b[0;34m:\u001b[0m\u001b[0;34m]\u001b[0m\u001b[0;34m\u001b[0m\u001b[0;34m\u001b[0m\u001b[0m\n",
            "\u001b[0;32m/usr/local/lib/python3.10/dist-packages/torch/nn/modules/module.py\u001b[0m in \u001b[0;36m_wrapped_call_impl\u001b[0;34m(self, *args, **kwargs)\u001b[0m\n\u001b[1;32m   1516\u001b[0m             \u001b[0;32mreturn\u001b[0m \u001b[0mself\u001b[0m\u001b[0;34m.\u001b[0m\u001b[0m_compiled_call_impl\u001b[0m\u001b[0;34m(\u001b[0m\u001b[0;34m*\u001b[0m\u001b[0margs\u001b[0m\u001b[0;34m,\u001b[0m \u001b[0;34m**\u001b[0m\u001b[0mkwargs\u001b[0m\u001b[0;34m)\u001b[0m  \u001b[0;31m# type: ignore[misc]\u001b[0m\u001b[0;34m\u001b[0m\u001b[0;34m\u001b[0m\u001b[0m\n\u001b[1;32m   1517\u001b[0m         \u001b[0;32melse\u001b[0m\u001b[0;34m:\u001b[0m\u001b[0;34m\u001b[0m\u001b[0;34m\u001b[0m\u001b[0m\n\u001b[0;32m-> 1518\u001b[0;31m             \u001b[0;32mreturn\u001b[0m \u001b[0mself\u001b[0m\u001b[0;34m.\u001b[0m\u001b[0m_call_impl\u001b[0m\u001b[0;34m(\u001b[0m\u001b[0;34m*\u001b[0m\u001b[0margs\u001b[0m\u001b[0;34m,\u001b[0m \u001b[0;34m**\u001b[0m\u001b[0mkwargs\u001b[0m\u001b[0;34m)\u001b[0m\u001b[0;34m\u001b[0m\u001b[0;34m\u001b[0m\u001b[0m\n\u001b[0m\u001b[1;32m   1519\u001b[0m \u001b[0;34m\u001b[0m\u001b[0m\n\u001b[1;32m   1520\u001b[0m     \u001b[0;32mdef\u001b[0m \u001b[0m_call_impl\u001b[0m\u001b[0;34m(\u001b[0m\u001b[0mself\u001b[0m\u001b[0;34m,\u001b[0m \u001b[0;34m*\u001b[0m\u001b[0margs\u001b[0m\u001b[0;34m,\u001b[0m \u001b[0;34m**\u001b[0m\u001b[0mkwargs\u001b[0m\u001b[0;34m)\u001b[0m\u001b[0;34m:\u001b[0m\u001b[0;34m\u001b[0m\u001b[0;34m\u001b[0m\u001b[0m\n",
            "\u001b[0;32m/usr/local/lib/python3.10/dist-packages/torch/nn/modules/module.py\u001b[0m in \u001b[0;36m_call_impl\u001b[0;34m(self, *args, **kwargs)\u001b[0m\n\u001b[1;32m   1525\u001b[0m                 \u001b[0;32mor\u001b[0m \u001b[0m_global_backward_pre_hooks\u001b[0m \u001b[0;32mor\u001b[0m \u001b[0m_global_backward_hooks\u001b[0m\u001b[0;34m\u001b[0m\u001b[0;34m\u001b[0m\u001b[0m\n\u001b[1;32m   1526\u001b[0m                 or _global_forward_hooks or _global_forward_pre_hooks):\n\u001b[0;32m-> 1527\u001b[0;31m             \u001b[0;32mreturn\u001b[0m \u001b[0mforward_call\u001b[0m\u001b[0;34m(\u001b[0m\u001b[0;34m*\u001b[0m\u001b[0margs\u001b[0m\u001b[0;34m,\u001b[0m \u001b[0;34m**\u001b[0m\u001b[0mkwargs\u001b[0m\u001b[0;34m)\u001b[0m\u001b[0;34m\u001b[0m\u001b[0;34m\u001b[0m\u001b[0m\n\u001b[0m\u001b[1;32m   1528\u001b[0m \u001b[0;34m\u001b[0m\u001b[0m\n\u001b[1;32m   1529\u001b[0m         \u001b[0;32mtry\u001b[0m\u001b[0;34m:\u001b[0m\u001b[0;34m\u001b[0m\u001b[0;34m\u001b[0m\u001b[0m\n",
            "\u001b[0;32m<ipython-input-28-10f957eaff1a>\u001b[0m in \u001b[0;36mforward\u001b[0;34m(self, input_tensor, tgt_tensor, teacher_forcing_ratio)\u001b[0m\n\u001b[1;32m     32\u001b[0m \u001b[0;34m\u001b[0m\u001b[0m\n\u001b[1;32m     33\u001b[0m             \u001b[0mcharacter_probs\u001b[0m \u001b[0;34m=\u001b[0m \u001b[0mF\u001b[0m\u001b[0;34m.\u001b[0m\u001b[0mlog_softmax\u001b[0m\u001b[0;34m(\u001b[0m\u001b[0mdecoder_output\u001b[0m\u001b[0;34m,\u001b[0m \u001b[0mdim\u001b[0m\u001b[0;34m=\u001b[0m\u001b[0;34m-\u001b[0m\u001b[0;36m1\u001b[0m\u001b[0;34m)\u001b[0m\u001b[0;34m\u001b[0m\u001b[0;34m\u001b[0m\u001b[0m\n\u001b[0;32m---> 34\u001b[0;31m             \u001b[0mpred\u001b[0m \u001b[0;34m=\u001b[0m \u001b[0mcharacter_probs\u001b[0m\u001b[0;34m.\u001b[0m\u001b[0margmax\u001b[0m\u001b[0;34m(\u001b[0m\u001b[0mdim\u001b[0m\u001b[0;34m=\u001b[0m\u001b[0;34m-\u001b[0m\u001b[0;36m1\u001b[0m\u001b[0;34m)\u001b[0m\u001b[0;34m\u001b[0m\u001b[0;34m\u001b[0m\u001b[0m\n\u001b[0m\u001b[1;32m     35\u001b[0m             \u001b[0moutputs\u001b[0m\u001b[0;34m.\u001b[0m\u001b[0mappend\u001b[0m\u001b[0;34m(\u001b[0m\u001b[0mcharacter_probs\u001b[0m\u001b[0;34m)\u001b[0m\u001b[0;34m\u001b[0m\u001b[0;34m\u001b[0m\u001b[0m\n\u001b[1;32m     36\u001b[0m             \u001b[0mdecoder_input\u001b[0m \u001b[0;34m=\u001b[0m \u001b[0mself\u001b[0m\u001b[0;34m.\u001b[0m\u001b[0mde_embedding\u001b[0m\u001b[0;34m(\u001b[0m\u001b[0mpred\u001b[0m\u001b[0;34m)\u001b[0m\u001b[0;34m.\u001b[0m\u001b[0munsqueeze\u001b[0m\u001b[0;34m(\u001b[0m\u001b[0;36m0\u001b[0m\u001b[0;34m)\u001b[0m\u001b[0;34m\u001b[0m\u001b[0;34m\u001b[0m\u001b[0m\n",
            "\u001b[0;31mKeyboardInterrupt\u001b[0m: "
          ]
        }
      ],
      "source": [
        "num_epochs = 200\n",
        "train_acc, train_loss, train_bleu = train(model,trainloader,num_epochs)\n",
        "val_acc, val_loss, val_bleu = eval_model(model, valloader,num_epochs=1)\n",
        "test_acc, test_loss, test_bleu = eval_model(model, testloader,num_epochs=1)\n",
        "\n",
        "printplot('Train',train_loss,train_acc,train_bleu)\n",
        "printplot('New_Test',val_loss,val_acc,val_bleu)\n",
        "printplot('Test',test_loss,test_acc,test_bleu)\n"
      ]
    },
    {
      "cell_type": "code",
      "source": [
        "val_acc, val_loss, val_bleu = eval_model(model, valloader)\n",
        "test_acc, test_loss, test_bleu = eval_model(model, testloader)\n",
        "\n",
        "# printplot('New_Test',val_loss,val_acc,val_bleu)\n",
        "# printplot('Test',test_loss,test_acc,test_bleu)\n",
        "print(f'Train accuarcy:{train_acc[-1]}, Train loss:{train_loss[-1]},Train bleu:{train_bleu[-1]}' )\n",
        "print(f'Test accuracy: {test_acc}, Test loss: {test_loss}, Test bleu: {test_bleu}')\n",
        "print(f'Val accuracy: {val_acc}, Val loss: {val_loss}, Val bleu: {val_bleu}')\n",
        "printplot('Train',train_loss,train_acc,train_bleu)\n",
        "print(train_acc)"
      ],
      "metadata": {
        "colab": {
          "base_uri": "https://localhost:8080/",
          "height": 576
        },
        "id": "EcGU4IC75qzk",
        "outputId": "027d91d6-1ace-4f44-a086-2fe05d255431"
      },
      "execution_count": null,
      "outputs": [
        {
          "output_type": "stream",
          "name": "stdout",
          "text": [
            "Train accuarcy:21.315348009884197, Train loss:0.09748707527276312,Train bleu:0.40124065059382513\n",
            "Test accuracy: 72.44516125211398, Test loss: 0.09261712192161249, Test bleu: 0.831169581194539\n",
            "Val accuracy: 71.80558592028524, Val loss: 0.09207265399912797, Val bleu: 0.8303610825296268\n"
          ]
        },
        {
          "output_type": "display_data",
          "data": {
            "text/plain": [
              "<Figure size 1200x500 with 3 Axes>"
            ],
            "image/png": "[encoded data removed]"
          },
          "metadata": {}
        },
        {
          "output_type": "stream",
          "name": "stdout",
          "text": [
            "[0.0, 0.0, 0.0, 0.0, 0.0, 0.0, 0.0, 0.0, 0.0, 0.0, 0.0, 0.0, 0.0, 0.0, 0.00023996898967068535, 0.0002249709278162675, 0.0002117373438270753, 0.00019997415805890446, 0.0001894492023715937, 0.0007571459011110903, 0.0007210913343915147, 0.0013615967778361096, 0.0032233449208016233, 0.003450154465773254, 0.003564846265093871, 0.003427736793359491, 0.0034854922022836965, 0.0038645599491632333, 0.004719864344032381, 0.005389833410506565, 0.006671873923620323, 0.007991711787606217, 0.008752971431214202, 0.01078325081786544, 0.013475643547882466, 0.01578408141442156, 0.018107384952592835, 0.021015861051477316, 0.023106108072483974, 0.02527118072187297, 0.029144357045833222, 0.030408340866332838, 0.03402571858426538, 0.037860004845531925, 0.04239365514662974, 0.05081143630271859, 0.05842749894261574, 0.06712980107289272, 0.07563506123123419, 0.08432154280651687, 0.0953184692096634, 0.10998928161834115, 0.12423012400155374, 0.13942175453872033, 0.1543353851824802, 0.17214419529236114, 0.18867294482173702, 0.20555680241283972, 0.2232243594948404, 0.24438563429880478, 0.2742087903534279, 0.3063959875678956, 0.33988136220590537, 0.3737937680363616, 0.4125731136859891, 0.4610661440326463, 0.5067137643482166, 0.5504392910018703, 0.595021519879779, 0.6427324227358088, 0.6916312207397498, 0.7428993192103083, 0.7970345255048495, 0.852387554366948, 0.9079314363131198, 0.96568494954131, 1.0233254194346388, 1.089595751330328, 1.1513064763153065, 1.2193755672645092, 1.289876553198094, 1.3619913001383857, 1.4358549826841107, 1.5141638372231854, 1.5891257317364216, 1.6707866169703707, 1.749974730855578, 1.826142233069963, 1.910863211337982, 1.9967863273880637, 2.085777523468946, 2.1753703090898853, 2.2698784496321163, 2.3673040173011715, 2.4552147124085413, 2.5498668509003815, 2.6489738762237462, 2.7561287088791264, 2.8602199864447915, 2.9595861898491584, 3.069121341670996, 3.1753538078999126, 3.2828901396698273, 3.3876647851618165, 3.503643604470601, 3.613337686561411, 3.7248301962618373, 3.8355654068194123, 3.9593523330303846, 4.078193119406593, 4.203329849584748, 4.329921909722562, 4.453236995720119, 4.578764495967071, 4.710476366224741, 4.839368037882691, 4.97246403929489, 5.104208307728088, 5.241085059738897, 5.375871409660132, 5.510240760061968, 5.649132522955, 5.791048970217749, 5.9337799758302285, 6.081399903167005, 6.231546356753631, 6.376075942264873, 6.5208360830022025, 6.670408705729408, 6.823715818364876, 6.976140357324651, 7.127008568009759, 7.2861913118678014, 7.450737896342287, 7.613648719031307, 7.781155383143304, 7.94711609470397, 8.110941516707678, 8.281519703508906, 8.443999975869483, 8.617278888055397, 8.792494519071166, 8.968825476931238, 9.145850675894813, 9.31949713084006, 9.494863372302653, 9.67287746604577, 9.856268598207043, 10.040599311770354, 10.231430945260625, 10.415132879129391, 10.606697002206564, 10.799045720147067, 10.987264630482919, 11.18241306696931, 11.379470355951874, 11.576364839310035, 11.770172795669039, 11.974051552388952, 12.175161098833573, 12.38168389913281, 12.583936654723157, 12.793528916560659, 13.000356786816342, 13.212397079089389, 13.417363693214252, 13.630744955549329, 13.846351030172253, 14.064091035788634, 14.27697299814901, 14.494878269554452, 14.715463553302765, 14.935059707225728, 15.15860004957999, 15.383645129915932, 15.610555402537678, 15.835160662933893, 16.06183398424356, 16.285787466987717, 16.51515492224358, 16.753448837809103, 16.98377657520419, 17.219556039716995, 17.453395089039297, 17.692925477523943, 17.930388964097677, 18.16598255529916, 18.401248151959408, 18.635906091932263, 18.879071464992847, 19.11644882163836, 19.361022704998575, 19.601428950088614, 19.845285855247266, 20.087848224935176, 20.334616256782255, 20.58166567472403, 20.82747420704375, 21.071907994282263, 21.315348009884197]\n"
          ]
        }
      ]
    },
    {
      "cell_type": "code",
      "source": [],
      "metadata": {
        "id": "ZwHVmVCT5pmr"
      },
      "execution_count": null,
      "outputs": []
    },
    {
      "cell_type": "code",
      "source": [
        "printplot('Train',train_loss,train_acc,train_bleu)\n",
        "printplot('New_Test',val_loss,val_acc,val_bleu)\n",
        "printplot('Test',test_loss,test_acc,test_bleu)"
      ],
      "metadata": {
        "id": "PV6ScSGAmOf5"
      },
      "execution_count": null,
      "outputs": []
    },
    {
      "cell_type": "markdown",
      "metadata": {
        "id": "FlpUJy2vb_mH"
      },
      "source": []
    },
    {
      "cell_type": "markdown",
      "metadata": {
        "id": "k121VCU9b_mH"
      },
      "source": []
    }
  ],
  "metadata": {
    "kernelspec": {
      "display_name": "Python 3",
      "name": "python3"
    },
    "language_info": {
      "codemirror_mode": {
        "name": "ipython",
        "version": 3
      },
      "file_extension": ".py",
      "mimetype": "text/x-python",
      "name": "python",
      "nbconvert_exporter": "python",
      "pygments_lexer": "ipython3",
      "version": "3.11.5"
    },
    "colab": {
      "provenance": [],
      "toc_visible": true,
      "machine_shape": "hm",
      "gpuType": "T4",
      "include_colab_link": true
    },
    "accelerator": "GPU"
  },
  "nbformat": 4,
  "nbformat_minor": 0
}